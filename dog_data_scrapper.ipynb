{
 "cells": [
  {
   "cell_type": "markdown",
   "metadata": {},
   "source": [
    "## Web Scrapping Dog Database"
   ]
  },
  {
   "cell_type": "markdown",
   "metadata": {},
   "source": [
    "The objective of this "
   ]
  },
  {
   "cell_type": "markdown",
   "metadata": {},
   "source": [
    "### Libraries"
   ]
  },
  {
   "cell_type": "code",
   "execution_count": 47,
   "metadata": {},
   "outputs": [],
   "source": [
    "from selenium import webdriver\n",
    "from selenium.webdriver.common.by import By\n",
    "import requests\n",
    "import io\n",
    "from PIL import Image\n",
    "import time\n",
    "\n",
    "dogs_ig = [\n",
    "    '@itsdougthepug',\n",
    "    '@jiffpom',\n",
    "    '@marniethedog',\n",
    "    '@manny_the_frenchie',\n",
    "    '@crusoe_dachshund',\n",
    "    '@samsonthedood',\n",
    "    '@reagandoodle',\n",
    "    '@barkleysircharles',\n",
    "    '@popeyethefoodie',\n",
    "    '@izzythe.frenchie',\n",
    "    '@tunameltsmyheart',\n",
    "    '@toastmeetsworld',\n",
    "    '@mensweardog',\n",
    "    '@thiswildidea',\n",
    "    '@aspenthemountainpup',\n",
    "    '@aussiekiba',\n",
    "    '@dogwithsign',\n",
    "    '@goldenunicornrae',\n",
    "    '@jackson_the_dalmatian',\n",
    "    '@madmax_fluffyroad'\n",
    "\n",
    "]\n",
    "\n",
    "\n"
   ]
  },
  {
   "cell_type": "code",
   "execution_count": 48,
   "metadata": {},
   "outputs": [],
   "source": [
    "\n",
    "def get_images_from_google(wd, query, delay, max_images):\n",
    "\n",
    "\tdef scroll_down(wd):\n",
    "\t\twd.execute_script(\"window.scrollTo(0, document.body.scrollHeight);\")\n",
    "\t\ttime.sleep(delay)\n",
    "\n",
    "\turl = f\"https://www.google.com/search?q={query}&tbm=isch\"\n",
    "\twd.get(url)\n",
    "\n",
    "\timage_urls = set()\n",
    "\tskips = 0\n",
    "\n",
    "\twhile len(image_urls) + skips < max_images:\n",
    "\t\tscroll_down(wd)\n",
    "\n",
    "\t\tthumbnails = wd.find_elements(By.CLASS_NAME, \"Q4LuWd\")\n",
    "\n",
    "\t\tfor img in thumbnails[len(image_urls) + skips:max_images]:\n",
    "\t\t\ttry:\n",
    "\t\t\t\timg.click()\n",
    "\t\t\t\ttime.sleep(delay)\n",
    "\t\t\texcept:\n",
    "\t\t\t\tcontinue\n",
    "\n",
    "\t\t\timages = wd.find_elements(By.CLASS_NAME, \"sFlh5c\")\n",
    "\t\t\tfor image in images:\n",
    "\t\t\t\tif image.get_attribute('src') in image_urls:\n",
    "\t\t\t\t\tmax_images += 1\n",
    "\t\t\t\t\tskips += 1\n",
    "\t\t\t\t\tbreak\n",
    "\n",
    "\t\t\t\tif image.get_attribute('src') and 'http' in image.get_attribute('src'):\n",
    "\t\t\t\t\timage_urls.add(image.get_attribute('src'))\n",
    "\t\t\t\t\tprint(f\"Found {len(image_urls)}\")\n",
    "\n",
    "\treturn image_urls\n",
    "\n",
    "\n",
    "def download_image(download_path, url, file_name):\n",
    "\ttry:\n",
    "\t\timage_content = requests.get(url).content\n",
    "\t\timage_file = io.BytesIO(image_content)\n",
    "\t\timage = Image.open(image_file)\n",
    "\t\tfile_path = download_path + file_name\n",
    "\n",
    "\t\twith open(file_path, \"wb\") as f:\n",
    "\t\t\timage.save(f, \"JPEG\")\n",
    "\n",
    "\t\tprint(\"Success\")\n",
    "\texcept Exception as e:\n",
    "\t\tprint('FAILED -', e)\n",
    "\n",
    "\n",
    "\n",
    "\n",
    "def download_dogs_images(wd, dogs_ig, delay, max_images):\n",
    "\tfor dog in dogs_ig:\n",
    "\t\tquery = dog\n",
    "\t\turls = get_images_from_google(wd, query, delay, max_images)\n",
    "\n",
    "\t\tfor i, url in enumerate(urls):\n",
    "\t\t\tdownload_image(\"imgs/\", url, str(dog) + str(i) + \".jpg\")"
   ]
  },
  {
   "cell_type": "code",
   "execution_count": 49,
   "metadata": {},
   "outputs": [
    {
     "name": "stdout",
     "output_type": "stream",
     "text": [
      "['@dogwithsign', '@goldenunicornrae', '@jackson_the_dalmatian', '@madmax_fluffyroad']\n"
     ]
    }
   ],
   "source": [
    "print(dogs_ig[16:])"
   ]
  },
  {
   "cell_type": "code",
   "execution_count": 44,
   "metadata": {},
   "outputs": [
    {
     "name": "stdout",
     "output_type": "stream",
     "text": [
      "Found 1\n",
      "Found 2\n",
      "Found 3\n",
      "Found 4\n",
      "Found 5\n",
      "Found 6\n",
      "Found 7\n",
      "Found 8\n",
      "Found 9\n",
      "Found 10\n",
      "Found 11\n",
      "Found 12\n",
      "Found 13\n",
      "Found 14\n",
      "Success\n",
      "Success\n",
      "Success\n",
      "Success\n",
      "Success\n",
      "Success\n",
      "Success\n",
      "Success\n",
      "Success\n",
      "Success\n",
      "Success\n",
      "Success\n",
      "Success\n",
      "Success\n",
      "Found 1\n",
      "Found 2\n",
      "Found 3\n"
     ]
    },
    {
     "ename": "NoSuchWindowException",
     "evalue": "Message: no such window: target window already closed\nfrom unknown error: web view not found\n  (Session info: chrome=122.0.6261.94)\nStacktrace:\n#0 0x55f0f6caee93 <unknown>\n#1 0x55f0f69a6ce6 <unknown>\n#2 0x55f0f697d8cd <unknown>\n#3 0x55f0f6a1c76d <unknown>\n#4 0x55f0f6a32226 <unknown>\n#5 0x55f0f6a13c53 <unknown>\n#6 0x55f0f69e4db3 <unknown>\n#7 0x55f0f69e577e <unknown>\n#8 0x55f0f6c747cb <unknown>\n#9 0x55f0f6c787e5 <unknown>\n#10 0x55f0f6c620e1 <unknown>\n#11 0x55f0f6c79372 <unknown>\n#12 0x55f0f6c461bf <unknown>\n#13 0x55f0f6c9d488 <unknown>\n#14 0x55f0f6c9d683 <unknown>\n#15 0x55f0f6cae044 <unknown>\n#16 0x7faafff64609 start_thread\n",
     "output_type": "error",
     "traceback": [
      "\u001b[0;31m---------------------------------------------------------------------------\u001b[0m",
      "\u001b[0;31mNoSuchWindowException\u001b[0m                     Traceback (most recent call last)",
      "Cell \u001b[0;32mIn[44], line 4\u001b[0m\n\u001b[1;32m      1\u001b[0m wd \u001b[38;5;241m=\u001b[39m webdriver\u001b[38;5;241m.\u001b[39mChrome()\n\u001b[1;32m      2\u001b[0m dogs_ig \u001b[38;5;241m=\u001b[39m dogs_ig[\u001b[38;5;241m15\u001b[39m:]\n\u001b[0;32m----> 4\u001b[0m \u001b[43mdownload_dogs_images\u001b[49m\u001b[43m(\u001b[49m\u001b[43mwd\u001b[49m\u001b[43m,\u001b[49m\u001b[43m \u001b[49m\u001b[43mdogs_ig\u001b[49m\u001b[43m,\u001b[49m\u001b[43m \u001b[49m\u001b[38;5;241;43m3\u001b[39;49m\u001b[43m,\u001b[49m\u001b[43m \u001b[49m\u001b[38;5;241;43m12\u001b[39;49m\u001b[43m)\u001b[49m\n",
      "Cell \u001b[0;32mIn[42], line 59\u001b[0m, in \u001b[0;36mdownload_dogs_images\u001b[0;34m(wd, dogs_ig, delay, max_images)\u001b[0m\n\u001b[1;32m     57\u001b[0m \u001b[38;5;28;01mfor\u001b[39;00m dog \u001b[38;5;129;01min\u001b[39;00m dogs_ig:\n\u001b[1;32m     58\u001b[0m \tquery \u001b[38;5;241m=\u001b[39m dog\n\u001b[0;32m---> 59\u001b[0m \turls \u001b[38;5;241m=\u001b[39m \u001b[43mget_images_from_google\u001b[49m\u001b[43m(\u001b[49m\u001b[43mwd\u001b[49m\u001b[43m,\u001b[49m\u001b[43m \u001b[49m\u001b[43mquery\u001b[49m\u001b[43m,\u001b[49m\u001b[43m \u001b[49m\u001b[43mdelay\u001b[49m\u001b[43m,\u001b[49m\u001b[43m \u001b[49m\u001b[43mmax_images\u001b[49m\u001b[43m)\u001b[49m\n\u001b[1;32m     61\u001b[0m \t\u001b[38;5;28;01mfor\u001b[39;00m i, url \u001b[38;5;129;01min\u001b[39;00m \u001b[38;5;28menumerate\u001b[39m(urls):\n\u001b[1;32m     62\u001b[0m \t\tdownload_image(\u001b[38;5;124m\"\u001b[39m\u001b[38;5;124mimgs/\u001b[39m\u001b[38;5;124m\"\u001b[39m, url, \u001b[38;5;28mstr\u001b[39m(dog) \u001b[38;5;241m+\u001b[39m \u001b[38;5;28mstr\u001b[39m(i) \u001b[38;5;241m+\u001b[39m \u001b[38;5;124m\"\u001b[39m\u001b[38;5;124m.jpg\u001b[39m\u001b[38;5;124m\"\u001b[39m)\n",
      "Cell \u001b[0;32mIn[42], line 14\u001b[0m, in \u001b[0;36mget_images_from_google\u001b[0;34m(wd, query, delay, max_images)\u001b[0m\n\u001b[1;32m     11\u001b[0m skips \u001b[38;5;241m=\u001b[39m \u001b[38;5;241m0\u001b[39m\n\u001b[1;32m     13\u001b[0m \u001b[38;5;28;01mwhile\u001b[39;00m \u001b[38;5;28mlen\u001b[39m(image_urls) \u001b[38;5;241m+\u001b[39m skips \u001b[38;5;241m<\u001b[39m max_images:\n\u001b[0;32m---> 14\u001b[0m \t\u001b[43mscroll_down\u001b[49m\u001b[43m(\u001b[49m\u001b[43mwd\u001b[49m\u001b[43m)\u001b[49m\n\u001b[1;32m     16\u001b[0m \tthumbnails \u001b[38;5;241m=\u001b[39m wd\u001b[38;5;241m.\u001b[39mfind_elements(By\u001b[38;5;241m.\u001b[39mCLASS_NAME, \u001b[38;5;124m\"\u001b[39m\u001b[38;5;124mQ4LuWd\u001b[39m\u001b[38;5;124m\"\u001b[39m)\n\u001b[1;32m     18\u001b[0m \t\u001b[38;5;28;01mfor\u001b[39;00m img \u001b[38;5;129;01min\u001b[39;00m thumbnails[\u001b[38;5;28mlen\u001b[39m(image_urls) \u001b[38;5;241m+\u001b[39m skips:max_images]:\n",
      "Cell \u001b[0;32mIn[42], line 4\u001b[0m, in \u001b[0;36mget_images_from_google.<locals>.scroll_down\u001b[0;34m(wd)\u001b[0m\n\u001b[1;32m      3\u001b[0m \u001b[38;5;28;01mdef\u001b[39;00m \u001b[38;5;21mscroll_down\u001b[39m(wd):\n\u001b[0;32m----> 4\u001b[0m \t\u001b[43mwd\u001b[49m\u001b[38;5;241;43m.\u001b[39;49m\u001b[43mexecute_script\u001b[49m\u001b[43m(\u001b[49m\u001b[38;5;124;43m\"\u001b[39;49m\u001b[38;5;124;43mwindow.scrollTo(0, document.body.scrollHeight);\u001b[39;49m\u001b[38;5;124;43m\"\u001b[39;49m\u001b[43m)\u001b[49m\n\u001b[1;32m      5\u001b[0m \ttime\u001b[38;5;241m.\u001b[39msleep(delay)\n",
      "File \u001b[0;32m~/projects/gpt-vision-test/env/lib/python3.9/site-packages/selenium/webdriver/remote/webdriver.py:407\u001b[0m, in \u001b[0;36mWebDriver.execute_script\u001b[0;34m(self, script, *args)\u001b[0m\n\u001b[1;32m    404\u001b[0m converted_args \u001b[38;5;241m=\u001b[39m \u001b[38;5;28mlist\u001b[39m(args)\n\u001b[1;32m    405\u001b[0m command \u001b[38;5;241m=\u001b[39m Command\u001b[38;5;241m.\u001b[39mW3C_EXECUTE_SCRIPT\n\u001b[0;32m--> 407\u001b[0m \u001b[38;5;28;01mreturn\u001b[39;00m \u001b[38;5;28;43mself\u001b[39;49m\u001b[38;5;241;43m.\u001b[39;49m\u001b[43mexecute\u001b[49m\u001b[43m(\u001b[49m\u001b[43mcommand\u001b[49m\u001b[43m,\u001b[49m\u001b[43m \u001b[49m\u001b[43m{\u001b[49m\u001b[38;5;124;43m\"\u001b[39;49m\u001b[38;5;124;43mscript\u001b[39;49m\u001b[38;5;124;43m\"\u001b[39;49m\u001b[43m:\u001b[49m\u001b[43m \u001b[49m\u001b[43mscript\u001b[49m\u001b[43m,\u001b[49m\u001b[43m \u001b[49m\u001b[38;5;124;43m\"\u001b[39;49m\u001b[38;5;124;43margs\u001b[39;49m\u001b[38;5;124;43m\"\u001b[39;49m\u001b[43m:\u001b[49m\u001b[43m \u001b[49m\u001b[43mconverted_args\u001b[49m\u001b[43m}\u001b[49m\u001b[43m)\u001b[49m[\u001b[38;5;124m\"\u001b[39m\u001b[38;5;124mvalue\u001b[39m\u001b[38;5;124m\"\u001b[39m]\n",
      "File \u001b[0;32m~/projects/gpt-vision-test/env/lib/python3.9/site-packages/selenium/webdriver/remote/webdriver.py:347\u001b[0m, in \u001b[0;36mWebDriver.execute\u001b[0;34m(self, driver_command, params)\u001b[0m\n\u001b[1;32m    345\u001b[0m response \u001b[38;5;241m=\u001b[39m \u001b[38;5;28mself\u001b[39m\u001b[38;5;241m.\u001b[39mcommand_executor\u001b[38;5;241m.\u001b[39mexecute(driver_command, params)\n\u001b[1;32m    346\u001b[0m \u001b[38;5;28;01mif\u001b[39;00m response:\n\u001b[0;32m--> 347\u001b[0m     \u001b[38;5;28;43mself\u001b[39;49m\u001b[38;5;241;43m.\u001b[39;49m\u001b[43merror_handler\u001b[49m\u001b[38;5;241;43m.\u001b[39;49m\u001b[43mcheck_response\u001b[49m\u001b[43m(\u001b[49m\u001b[43mresponse\u001b[49m\u001b[43m)\u001b[49m\n\u001b[1;32m    348\u001b[0m     response[\u001b[38;5;124m\"\u001b[39m\u001b[38;5;124mvalue\u001b[39m\u001b[38;5;124m\"\u001b[39m] \u001b[38;5;241m=\u001b[39m \u001b[38;5;28mself\u001b[39m\u001b[38;5;241m.\u001b[39m_unwrap_value(response\u001b[38;5;241m.\u001b[39mget(\u001b[38;5;124m\"\u001b[39m\u001b[38;5;124mvalue\u001b[39m\u001b[38;5;124m\"\u001b[39m, \u001b[38;5;28;01mNone\u001b[39;00m))\n\u001b[1;32m    349\u001b[0m     \u001b[38;5;28;01mreturn\u001b[39;00m response\n",
      "File \u001b[0;32m~/projects/gpt-vision-test/env/lib/python3.9/site-packages/selenium/webdriver/remote/errorhandler.py:229\u001b[0m, in \u001b[0;36mErrorHandler.check_response\u001b[0;34m(self, response)\u001b[0m\n\u001b[1;32m    227\u001b[0m         alert_text \u001b[38;5;241m=\u001b[39m value[\u001b[38;5;124m\"\u001b[39m\u001b[38;5;124malert\u001b[39m\u001b[38;5;124m\"\u001b[39m]\u001b[38;5;241m.\u001b[39mget(\u001b[38;5;124m\"\u001b[39m\u001b[38;5;124mtext\u001b[39m\u001b[38;5;124m\"\u001b[39m)\n\u001b[1;32m    228\u001b[0m     \u001b[38;5;28;01mraise\u001b[39;00m exception_class(message, screen, stacktrace, alert_text)  \u001b[38;5;66;03m# type: ignore[call-arg]  # mypy is not smart enough here\u001b[39;00m\n\u001b[0;32m--> 229\u001b[0m \u001b[38;5;28;01mraise\u001b[39;00m exception_class(message, screen, stacktrace)\n",
      "\u001b[0;31mNoSuchWindowException\u001b[0m: Message: no such window: target window already closed\nfrom unknown error: web view not found\n  (Session info: chrome=122.0.6261.94)\nStacktrace:\n#0 0x55f0f6caee93 <unknown>\n#1 0x55f0f69a6ce6 <unknown>\n#2 0x55f0f697d8cd <unknown>\n#3 0x55f0f6a1c76d <unknown>\n#4 0x55f0f6a32226 <unknown>\n#5 0x55f0f6a13c53 <unknown>\n#6 0x55f0f69e4db3 <unknown>\n#7 0x55f0f69e577e <unknown>\n#8 0x55f0f6c747cb <unknown>\n#9 0x55f0f6c787e5 <unknown>\n#10 0x55f0f6c620e1 <unknown>\n#11 0x55f0f6c79372 <unknown>\n#12 0x55f0f6c461bf <unknown>\n#13 0x55f0f6c9d488 <unknown>\n#14 0x55f0f6c9d683 <unknown>\n#15 0x55f0f6cae044 <unknown>\n#16 0x7faafff64609 start_thread\n"
     ]
    }
   ],
   "source": [
    "wd = webdriver.Chrome()\n",
    "dogs_ig = dogs_ig[16:]\n",
    "\n",
    "download_dogs_images(wd, dogs_ig, 3, 12)\n"
   ]
  }
 ],
 "metadata": {
  "kernelspec": {
   "display_name": "env",
   "language": "python",
   "name": "python3"
  },
  "language_info": {
   "codemirror_mode": {
    "name": "ipython",
    "version": 3
   },
   "file_extension": ".py",
   "mimetype": "text/x-python",
   "name": "python",
   "nbconvert_exporter": "python",
   "pygments_lexer": "ipython3",
   "version": "3.9.5"
  }
 },
 "nbformat": 4,
 "nbformat_minor": 2
}
