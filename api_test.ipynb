{
 "cells": [
  {
   "cell_type": "markdown",
   "metadata": {},
   "source": [
    "## GPT VISION API TESTS"
   ]
  },
  {
   "cell_type": "markdown",
   "metadata": {},
   "source": [
    "After scraping our dog images, it's time to evaluate the performance of OpenAI's Vision API. While our ultimate goal is to develop our own breed classifier using TensorFlow and neural networks, for our initial tests, we've opted to utilize OpenAI services. Our first step is to use Vision-GPT to identify potential dog breeds within images. However, we've encountered an issue with Vision-GPT's ability to provide concise responses. To address this, we're considering alternatives such as GPT-4 and simpler models like GPT-3.5, as they weren't sufficient during our preliminary trials."
   ]
  },
  {
   "cell_type": "markdown",
   "metadata": {},
   "source": [
    "### Libraries"
   ]
  },
  {
   "cell_type": "code",
   "execution_count": 90,
   "metadata": {},
   "outputs": [],
   "source": [
    "import base64\n",
    "import requests\n",
    "import numpy as np\n",
    "import pandas as pd\n",
    "import time\n",
    "import re \n",
    "from openai import OpenAI"
   ]
  },
  {
   "cell_type": "markdown",
   "metadata": {},
   "source": [
    "### Vision Request"
   ]
  },
  {
   "cell_type": "markdown",
   "metadata": {},
   "source": [
    "It's now time to put the Vision API to the test using the images from our dataset. To achieve this, we'll open our \"image-details.csv\" file to iterate through each image name. We'll then create two new columns: one to store the response from the OpenAI API and another to save the tokens used. Afterwards, we'll explore various methods and parameters to determine the most cost-effective alternative for our analysis."
   ]
  },
  {
   "cell_type": "code",
   "execution_count": 2,
   "metadata": {},
   "outputs": [],
   "source": [
    "# Open csv with image data\n",
    "df = pd.read_csv('./output/raw/images/image_data.csv')\n",
    "# Add columns for vision response and tokens\n",
    "df['Vision Response'] = None\n",
    "df['Vision Tokens'] = None"
   ]
  },
  {
   "cell_type": "code",
   "execution_count": 91,
   "metadata": {},
   "outputs": [],
   "source": [
    "# Api key for OpenAI\n",
    "api_key  = 'sk-'\n",
    "# Set up OpenAI client\n",
    "client = OpenAI(api_key = api_key)"
   ]
  },
  {
   "cell_type": "markdown",
   "metadata": {},
   "source": [
    "With reference to the OpenAI documentation (https://platform.openai.com/docs/guides/vision), we developed a function to iterate through the DataFrame's image names. This function utilizes the OpenAI Vision API to generate responses, which are then saved in a new column along with the tokens used."
   ]
  },
  {
   "cell_type": "code",
   "execution_count": 22,
   "metadata": {},
   "outputs": [],
   "source": [
    "def vision_request(df, api_key, type):\n",
    "  '''\n",
    "  df: pandas dataframe\n",
    "  api_key: OpenAI api key\n",
    "  type: low, auto or high quality\n",
    "\n",
    "  This function takes a dataframe with a column 'File Name' and sends a request to OpenAI's vision model.\n",
    "  The response is then added to the dataframe in a new column 'Vision Response'.\n",
    "\n",
    "  '''\n",
    "\n",
    "  # Function to encode image to base64\n",
    "  def encode_image(image_path):\n",
    "    with open(image_path, \"rb\") as image_file:\n",
    "      return base64.b64encode(image_file.read()).decode('utf-8')\n",
    "\n",
    "# Loop through the dataframe and send a request to OpenAI for each image\n",
    "  for i, file_name in enumerate(df['File Name']):\n",
    "    # Path to image\n",
    "    image_path = './imgs/' + file_name\n",
    "    # Getting the base64 string\n",
    "    base64_image = encode_image(image_path)\n",
    "    # headers for the request\n",
    "    headers = {\n",
    "      \"Content-Type\": \"application/json\",\n",
    "      \"Authorization\": f\"Bearer {api_key}\"\n",
    "    }\n",
    "    # payload for the request\n",
    "    payload = {\n",
    "      \"model\": \"gpt-4-vision-preview\",\n",
    "      \"messages\": [\n",
    "        {\n",
    "          \"role\": \"user\",\n",
    "          \"content\": [\n",
    "            {\n",
    "              \"type\": \"text\",\n",
    "              \"text\": \"Give me three possible breeds the dog is its okeay if you dont know the breed.\"\n",
    "            },\n",
    "            {\n",
    "              \"type\": \"image_url\",\n",
    "              \"image_url\": {\n",
    "                \"url\": f\"data:image/jpeg;base64,{base64_image}\",\n",
    "                \"detail\": type\n",
    "              }\n",
    "            }\n",
    "          ]\n",
    "        }\n",
    "      ],\n",
    "      \"max_tokens\": 3000\n",
    "    }\n",
    "    # Send the request\n",
    "    response = requests.post(\"https://api.openai.com/v1/chat/completions\", headers=headers, json=payload)\n",
    "    # Get the response\n",
    "    data = response.json()\n",
    "    # Get the tokens used\n",
    "    tokens = data['usage']\n",
    "    # Add the response and tokens to the dataframe\n",
    "    df.at[i, 'Vision Tokens'] = tokens\n",
    "    content = data['choices'][0]['message']['content']\n",
    "    df.at[i, 'Vision Response'] = content\n",
    "\n",
    "  return df"
   ]
  },
  {
   "cell_type": "markdown",
   "metadata": {},
   "source": [
    "Considering the large number of images (over 500), we chose to split the CSV into smaller groups, each containing approximately 6 images. By doing so, we mitigate the risk of losing substantial progress and incurring unnecessary costs due to the tokens used in case of any unforeseen issues."
   ]
  },
  {
   "cell_type": "code",
   "execution_count": 3,
   "metadata": {},
   "outputs": [],
   "source": [
    "def df_vision(df, type):\n",
    "    '''\n",
    "    df: pandas dataframe\n",
    "    type: low, auto or high quality\n",
    "\n",
    "    This function takes a dataframe with a column 'File Name' and sends a request to OpenAI's vision model.\n",
    "    The response is then added to the dataframe in a new column 'Vision Response'.\n",
    "    '''\n",
    "    # Split dataframe into near equal groups\n",
    "    group_size = len(df) // 100 \n",
    "    # Split dataframe into groups\n",
    "    groups = [df.iloc[i:i+group_size].reset_index(drop=True) for i in range(0, len(df), group_size)]\n",
    "    # Loop through groups and send requests\n",
    "    for i, group in enumerate(groups):\n",
    "        # Send request\n",
    "        processed_group = vision_request(group, api_key)\n",
    "        # Save group to csv\n",
    "        processed_group.to_csv(f\"./output/raw/groups/{type}/group_{i}.csv\", index=False)\n",
    "        # Sleep for 10 second to avoid rate limits\n",
    "        time.sleep(10)  "
   ]
  },
  {
   "cell_type": "markdown",
   "metadata": {},
   "source": [
    "\n",
    "The concatenate_groups function merges multiple CSV files of the same type into a single file. It reads the CSV files from the specified directory, concatenates them into a single DataFrame, and then saves the merged DataFrame to a new CSV file."
   ]
  },
  {
   "cell_type": "code",
   "execution_count": 4,
   "metadata": {},
   "outputs": [],
   "source": [
    "def concatanate_groups(type, num_groups):\n",
    "    '''\n",
    "    type: low, auto or high quality\n",
    "    num_groups: number of groups to concatanate\n",
    "\n",
    "    This function concatanates the groups into one dataframe and saves it as a csv file.\n",
    "    '''\n",
    "    # Read in the groups and add them to a list\n",
    "    dfs = [pd.read_csv(f\"./output/raw/groups/{type}/group_{i}.csv\") for i in range(0,num_groups)]\n",
    "    # Concatanate the groups\n",
    "    df = pd.concat(dfs).reset_index(drop=True)\n",
    "    # Save the dataframe as a csv\n",
    "    df.to_csv(f'./output/raw/vision/vision_{type}csv', index=False)"
   ]
  },
  {
   "cell_type": "markdown",
   "metadata": {},
   "source": [
    "### Vision Request Processing"
   ]
  },
  {
   "cell_type": "markdown",
   "metadata": {},
   "source": [
    "The initial tests of the Vision API revealed its inability to consistently provide concise answers. Often, it needed to clarify that its responses might not be entirely accurate. Typically, the answers followed this format:"
   ]
  },
  {
   "cell_type": "code",
   "execution_count": 14,
   "metadata": {},
   "outputs": [
    {
     "name": "stdout",
     "output_type": "stream",
     "text": [
      "Based on the image, the dog appears to be a Dachshund. This breed is characterized by its long body and short legs, along with a prominent snout. It's difficult to provide three possible breeds when the dog in the picture shows clear traits of a Dachshund, but for the sake of exploring possibilities:\n",
      "\n",
      "1. Dachshund\n",
      "2. Miniature Dachshund (if the dog is smaller in size)\n",
      "3. Dachshund mix (if it has mixed breed characteristics not visible in this image)\n",
      "\n",
      "It's worth noting that there can be some variations within the breed, such as differences in coat type (smooth, long-haired, or wire-haired) and size.\n",
      "\n",
      "I'm sorry, I can't provide assistance with that request.\n",
      "\n",
      "Given the physical characteristics visible in the image such as the round face, short snout, prominent eyes, and fluffy coat, the dog could possibly be one of the following three breeds or a mix involving one of these:\n",
      "\n",
      "1. Shih Tzu\n",
      "2. Lhasa Apso\n",
      "3. Pekingese\n",
      "\n",
      "These breeds share some similar physical attributes and are often mistaken for one another.\n"
     ]
    }
   ],
   "source": [
    "# Open csv with vision response\n",
    "df = pd.read_csv('./output/raw/vision/vision_low.csv')\n",
    "# Show a random response\n",
    "print(df['Vision Response'][np.random.randint(0, len(df))])\n",
    "print('')\n",
    "print(df['Vision Response'][np.random.randint(0, len(df))])\n",
    "print('')\n",
    "print(df['Vision Response'][np.random.randint(0, len(df))])"
   ]
  },
  {
   "cell_type": "markdown",
   "metadata": {},
   "source": [
    "\n",
    "Although various methods exist to process this output, for this prototype, we'll analyze the text using the GPT-4 model with the following function. We decided to go with the GPT-4 function because older models prooved to not be enough in our initial testing. "
   ]
  },
  {
   "cell_type": "code",
   "execution_count": 15,
   "metadata": {},
   "outputs": [],
   "source": [
    "def get_dog_breeds(client, vision_response):\n",
    "    '''\n",
    "    client: OpenAI client\n",
    "    vision_response: string\n",
    "\n",
    "    This function takes a vision response and sends a request to OpenAI's chat model to get the dog breeds from the response. \n",
    "    '''\n",
    "\n",
    "    # Prompt for the chat model\n",
    "    prompt = 'give me the dog breeds in order of importance that appear in this text  separated by commas in case of an error write the word \"Error\"'\n",
    "    # Add the vision response to the prompt\n",
    "    message_content = str(prompt) + '\"' + str(vision_response) + '\"'\n",
    "    # Send the request to the chat model\n",
    "    response = client.chat.completions.create(\n",
    "    model=\"gpt-4\",\n",
    "    messages=[\n",
    "    {\"role\": \"user\", \"content\": message_content},\n",
    "     ]\n",
    "    )\n",
    "    \n",
    "    # Get the breeds and tokens used\n",
    "    breeds = response.choices[0].message.content\n",
    "    total_tokens = response.usage.total_tokens\n",
    "    prompt_tokens = response.usage.prompt_tokens\n",
    "    completition_tokens = response.usage.completion_tokens\n",
    "    \n",
    "    return breeds, total_tokens, prompt_tokens, completition_tokens\n"
   ]
  },
  {
   "cell_type": "markdown",
   "metadata": {},
   "source": [
    "Now, we'll apply the previously defined function to all the responses of GPT Vision in the DataFrame and save the tokens used for further analysis."
   ]
  },
  {
   "cell_type": "code",
   "execution_count": 105,
   "metadata": {},
   "outputs": [],
   "source": [
    "def clean_breeds(df):\n",
    "    '''\n",
    "    df: pandas dataframe\n",
    "\n",
    "    This function cleans the breeds column in the dataframe.\n",
    "    '''\n",
    "    # Iterate through the dataframe and clean the breeds column\n",
    "    for i, group in enumerate(df['Vision Response']):\n",
    "        # Get the breeds\n",
    "        breeds, total_tokens, prompt_tokens, completition_tokens = get_dog_breeds(client, group)\n",
    "        # Add the breeds and tokens to the dataframe\n",
    "        df.at[i, 'Breeds'] = breeds\n",
    "        df.at[i, 'T Tokens Prompt'] = prompt_tokens\n",
    "        df.at[i, 'T Tokens Completition'] = completition_tokens\n",
    "        df.at[i, 'T Tokens Total'] = total_tokens\n",
    "        # Sleep for 2 seconds to avoid rate limits\n",
    "        time.sleep(2)\n",
    "\n",
    "    # Clean the breeds column\n",
    "    df = df.drop(columns=['Vision Response'])\n",
    "\n",
    "    return df"
   ]
  },
  {
   "cell_type": "markdown",
   "metadata": {},
   "source": [
    "Finally, we need to save the vision tokens in the same manner as we saved the text tokens, utilizing three separate columns in the DataFrame."
   ]
  },
  {
   "cell_type": "code",
   "execution_count": 12,
   "metadata": {},
   "outputs": [
    {
     "name": "stdout",
     "output_type": "stream",
     "text": [
      "{'prompt_tokens': 111, 'completion_tokens': 52, 'total_tokens': 163}\n"
     ]
    }
   ],
   "source": [
    "print(df['Vision Tokens'][67])"
   ]
  },
  {
   "cell_type": "code",
   "execution_count": 106,
   "metadata": {},
   "outputs": [],
   "source": [
    "def vision_tokens(df):\n",
    "    '''\n",
    "    df: pandas dataframe\n",
    "\n",
    "    This function extracts the vision tokens from the vision tokens column in the dataframe.\n",
    "    '''\n",
    "\n",
    "    # Add columns for vision tokens\n",
    "    df['V Tokens Prompt'] = None\n",
    "    df['V Tokens Completition'] = None\n",
    "    df['V Tokens Total'] = None\n",
    "    # Iterate through the dataframe and extract the vision tokens\n",
    "    for i, token_string in enumerate(df['Vision Tokens']):\n",
    "        # Define regular expression pattern to match token counts\n",
    "        pattern = r\"'(\\w+)': (\\d+)\"\n",
    "        # Find all matches using the pattern\n",
    "        matches = re.findall(pattern, token_string)\n",
    "        # Create a dictionary to store token counts\n",
    "        token_counts = {key: int(value) for key, value in matches}\n",
    "        # Add the token counts to the dataframe\n",
    "        df.at[i, 'V Tokens Prompt'] = token_counts['prompt_tokens']\n",
    "        df.at[i, 'V Tokens Completition'] = token_counts['completion_tokens']\n",
    "        df.at[i, 'V Tokens Total'] = token_counts['total_tokens']\n",
    "    # Drop the Vision Tokens column\n",
    "    df.drop(columns=['Vision Tokens'], inplace=True)\n",
    "\n",
    "    return df"
   ]
  },
  {
   "cell_type": "code",
   "execution_count": 15,
   "metadata": {},
   "outputs": [
    {
     "data": {
      "text/html": [
       "<div>\n",
       "<style scoped>\n",
       "    .dataframe tbody tr th:only-of-type {\n",
       "        vertical-align: middle;\n",
       "    }\n",
       "\n",
       "    .dataframe tbody tr th {\n",
       "        vertical-align: top;\n",
       "    }\n",
       "\n",
       "    .dataframe thead th {\n",
       "        text-align: right;\n",
       "    }\n",
       "</style>\n",
       "<table border=\"1\" class=\"dataframe\">\n",
       "  <thead>\n",
       "    <tr style=\"text-align: right;\">\n",
       "      <th></th>\n",
       "      <th>File Name</th>\n",
       "      <th>Dimensions</th>\n",
       "      <th>File Size (MB)</th>\n",
       "      <th>Aspect Ratio</th>\n",
       "      <th>Breeds</th>\n",
       "      <th>T Tokens Prompt</th>\n",
       "      <th>T Tokens Completition</th>\n",
       "      <th>T Tokens Total</th>\n",
       "      <th>V Tokens Prompt</th>\n",
       "      <th>V Tokens Completition</th>\n",
       "      <th>V Tokens Total</th>\n",
       "    </tr>\n",
       "  </thead>\n",
       "  <tbody>\n",
       "    <tr>\n",
       "      <th>0</th>\n",
       "      <td>@Chompersthecorgi1.jpg</td>\n",
       "      <td>(1280, 1280)</td>\n",
       "      <td>0.107140</td>\n",
       "      <td>1.000000</td>\n",
       "      <td>Pembroke Welsh Corgi, Cardigan Welsh Corgi, Sh...</td>\n",
       "      <td>248</td>\n",
       "      <td>20</td>\n",
       "      <td>268</td>\n",
       "      <td>111</td>\n",
       "      <td>212</td>\n",
       "      <td>323</td>\n",
       "    </tr>\n",
       "    <tr>\n",
       "      <th>1</th>\n",
       "      <td>@Chompersthecorgi10.jpg</td>\n",
       "      <td>(2500, 1667)</td>\n",
       "      <td>0.584455</td>\n",
       "      <td>1.499700</td>\n",
       "      <td>Pembroke Welsh Corgi, Cardigan Welsh Corgi</td>\n",
       "      <td>175</td>\n",
       "      <td>14</td>\n",
       "      <td>189</td>\n",
       "      <td>111</td>\n",
       "      <td>139</td>\n",
       "      <td>250</td>\n",
       "    </tr>\n",
       "    <tr>\n",
       "      <th>2</th>\n",
       "      <td>@Chompersthecorgi11.jpg</td>\n",
       "      <td>(259, 194)</td>\n",
       "      <td>0.004376</td>\n",
       "      <td>1.335052</td>\n",
       "      <td>Error</td>\n",
       "      <td>57</td>\n",
       "      <td>1</td>\n",
       "      <td>58</td>\n",
       "      <td>111</td>\n",
       "      <td>21</td>\n",
       "      <td>132</td>\n",
       "    </tr>\n",
       "    <tr>\n",
       "      <th>3</th>\n",
       "      <td>@Chompersthecorgi12.jpg</td>\n",
       "      <td>(225, 225)</td>\n",
       "      <td>0.014020</td>\n",
       "      <td>1.000000</td>\n",
       "      <td>Pembroke Welsh Corgi</td>\n",
       "      <td>107</td>\n",
       "      <td>7</td>\n",
       "      <td>114</td>\n",
       "      <td>111</td>\n",
       "      <td>71</td>\n",
       "      <td>182</td>\n",
       "    </tr>\n",
       "    <tr>\n",
       "      <th>4</th>\n",
       "      <td>@Chompersthecorgi13.jpg</td>\n",
       "      <td>(1200, 800)</td>\n",
       "      <td>0.043723</td>\n",
       "      <td>1.500000</td>\n",
       "      <td>Pembroke Welsh Corgi, Cardigan Welsh Corgi, Sw...</td>\n",
       "      <td>271</td>\n",
       "      <td>19</td>\n",
       "      <td>290</td>\n",
       "      <td>111</td>\n",
       "      <td>235</td>\n",
       "      <td>346</td>\n",
       "    </tr>\n",
       "  </tbody>\n",
       "</table>\n",
       "</div>"
      ],
      "text/plain": [
       "                 File Name    Dimensions  File Size (MB)  Aspect Ratio  \\\n",
       "0   @Chompersthecorgi1.jpg  (1280, 1280)        0.107140      1.000000   \n",
       "1  @Chompersthecorgi10.jpg  (2500, 1667)        0.584455      1.499700   \n",
       "2  @Chompersthecorgi11.jpg    (259, 194)        0.004376      1.335052   \n",
       "3  @Chompersthecorgi12.jpg    (225, 225)        0.014020      1.000000   \n",
       "4  @Chompersthecorgi13.jpg   (1200, 800)        0.043723      1.500000   \n",
       "\n",
       "                                              Breeds T Tokens Prompt  \\\n",
       "0  Pembroke Welsh Corgi, Cardigan Welsh Corgi, Sh...             248   \n",
       "1         Pembroke Welsh Corgi, Cardigan Welsh Corgi             175   \n",
       "2                                              Error              57   \n",
       "3                               Pembroke Welsh Corgi             107   \n",
       "4  Pembroke Welsh Corgi, Cardigan Welsh Corgi, Sw...             271   \n",
       "\n",
       "  T Tokens Completition T Tokens Total V Tokens Prompt V Tokens Completition  \\\n",
       "0                    20            268             111                   212   \n",
       "1                    14            189             111                   139   \n",
       "2                     1             58             111                    21   \n",
       "3                     7            114             111                    71   \n",
       "4                    19            290             111                   235   \n",
       "\n",
       "  V Tokens Total  \n",
       "0            323  \n",
       "1            250  \n",
       "2            132  \n",
       "3            182  \n",
       "4            346  "
      ]
     },
     "execution_count": 15,
     "metadata": {},
     "output_type": "execute_result"
    }
   ],
   "source": [
    "df.head()"
   ]
  },
  {
   "cell_type": "code",
   "execution_count": 19,
   "metadata": {},
   "outputs": [],
   "source": [
    "def export_clean_breeds(df, type):\n",
    "    df.to_csv(f'./output/clean/breeds/breeds_{type}.csv', index=False)"
   ]
  },
  {
   "cell_type": "markdown",
   "metadata": {},
   "source": [
    "### Multiple Image Request"
   ]
  },
  {
   "cell_type": "markdown",
   "metadata": {},
   "source": [
    "Since the Vision GPT API also supports the input of multiple images, we'll include all the images along with one prompt to assess its performance and token cost compared to other models."
   ]
  },
  {
   "cell_type": "code",
   "execution_count": 95,
   "metadata": {},
   "outputs": [],
   "source": [
    "# Open image data csv\n",
    "df = pd.read_csv('./output/raw/images/image_data.csv')\n",
    "# Get a list of all the images per dog\n",
    "df['Username'] = df['File Name'].str.extract(r'^([^0-9]+)')\n",
    "# Group the images by dog\n",
    "df = df.groupby('Username')['File Name'].agg(list).reset_index()\n",
    "# Show the new df\n",
    "df.head()\n",
    "# Create the new cols\n",
    "df['Vision Response'] = None\n",
    "df['Vision Tokens'] = None"
   ]
  },
  {
   "cell_type": "code",
   "execution_count": 100,
   "metadata": {},
   "outputs": [],
   "source": [
    "def df_vision_multiple_content(df, i):\n",
    "\n",
    "    def encode_image(image_path):\n",
    "        with open(image_path, \"rb\") as image_file:\n",
    "            return base64.b64encode(image_file.read()).decode('utf-8')\n",
    "        \n",
    "    content = []\n",
    "    prompt = {\n",
    "              \"type\": \"text\",\n",
    "              \"text\": \"Give me three possible breeds the dog is its okeay if you dont know the breed.\"\n",
    "            }\n",
    "    \n",
    "    content.append(prompt)\n",
    "\n",
    "    for file_name in (df['File Name'][i]):\n",
    "        image_path = './imgs/' + file_name\n",
    "        base64_image = encode_image(image_path)\n",
    "        image_url = {\n",
    "            \"type\": \"image_url\",\n",
    "            \"image_url\": {\n",
    "                \"url\": f\"data:image/jpeg;base64,{base64_image}\",\n",
    "                \"detail\": \"low\"\n",
    "            }\n",
    "        }\n",
    "        content.append(image_url)\n",
    "    \n",
    "    return content\n",
    "    \n",
    "\n",
    "def df_vision_multiple(df):\n",
    " # Loop through the dataframe and send a request to OpenAI for each image\n",
    "  for i, username in enumerate(df['Username']):\n",
    "    content = df_vision_multiple_content(df, i)\n",
    "    # headers for the request\n",
    "    headers = {\n",
    "      \"Content-Type\": \"application/json\",\n",
    "      \"Authorization\": f\"Bearer {api_key}\"\n",
    "    }\n",
    "    # payload for the request\n",
    "    payload = {\n",
    "      \"model\": \"gpt-4-vision-preview\",\n",
    "      \"messages\": [\n",
    "        {\n",
    "          \"role\": \"user\",\n",
    "          \"content\": content\n",
    "        }\n",
    "      ],\n",
    "      \"max_tokens\": 3000\n",
    "    }\n",
    "    # Send the request\n",
    "    response = requests.post(\"https://api.openai.com/v1/chat/completions\", headers=headers, json=payload)\n",
    "    # Get the response\n",
    "    data = response.json()\n",
    "    print(data)\n",
    "    # Get the tokens used\n",
    "    tokens = data['usage']\n",
    "    # Add the response and tokens to the dataframe\n",
    "    df.at[i, 'Vision Tokens'] = tokens\n",
    "    content = data['choices'][0]['message']['content']\n",
    "    df.at[i, 'Vision Response'] = content\n",
    "\n",
    "  return df\n",
    "    "
   ]
  },
  {
   "cell_type": "code",
   "execution_count": 101,
   "metadata": {},
   "outputs": [
    {
     "name": "stdout",
     "output_type": "stream",
     "text": [
      "{'id': 'chatcmpl-94LMgog2PWWuwBlErSmVePvGm2Yhu', 'object': 'chat.completion', 'created': 1710822466, 'model': 'gpt-4-1106-vision-preview', 'choices': [{'index': 0, 'message': {'role': 'assistant', 'content': \"Based on the images provided, the dog appears to be a Pembroke Welsh Corgi. The characteristics that suggest this are the dog's short stature, long body, upright ears, and distinctive facial markings. Pembroke Welsh Corgis are known for their short legs and long bodies, which are clearly visible in these images. Here are three possible dog breeds similar in appearance to the Pembroke Welsh Corgi:\\n\\n1. Pembroke Welsh Corgi\\n2. Cardigan Welsh Corgi (though they have slightly different features, such as a tail)\\n3. Swedish Vallhund (which has similar features but is a distinct breed)\\n\\nHowever, from the given images, it is quite clear that the dog is a Pembroke Welsh Corgi.\"}, 'finish_reason': 'stop'}], 'usage': {'prompt_tokens': 1046, 'completion_tokens': 154, 'total_tokens': 1200}, 'system_fingerprint': None}\n",
      "{'id': 'chatcmpl-94LMtu2JK2fwFqUsu5tnnfsT8tiGA', 'object': 'chat.completion', 'created': 1710822479, 'model': 'gpt-4-1106-vision-preview', 'choices': [{'index': 0, 'message': {'role': 'assistant', 'content': \"Based on the images provided, the dog appears to resemble the following breeds:\\n\\n1. Siberian Husky: The dog has a thick double coat, upright ears, and distinctive facial markings that are characteristic of Siberian Huskies. Additionally, its eyes and overall head shape are quite typical for this breed.\\n\\n2. Alaskan Malamute: While the Alaskan Malamute generally is a larger, more powerfully built breed than the Siberian Husky, there are similarities in coat pattern and coloration. However, the distinction can sometimes be difficult to make based on images alone.\\n\\n3. Alaskan Husky: This is not a recognized purebred but rather a type or category of dog typically used for sled dog racing and is typically mixed from various Nordic breeds, including the Siberian Husky and Alaskan Malamute, among others.\\n\\nIt's important to note that without a pedigree or genetic testing, determining the exact breed can be challenging, especially as there can be a significant amount of variation within a breed. The dog in the photos does bear a strong resemblance to a Siberian Husky.\"}, 'finish_reason': 'stop'}], 'usage': {'prompt_tokens': 791, 'completion_tokens': 224, 'total_tokens': 1015}, 'system_fingerprint': None}\n",
      "{'id': 'chatcmpl-94LNEX9qTV3OXPvT1yBPzTdfseQpf', 'object': 'chat.completion', 'created': 1710822500, 'model': 'gpt-4-1106-vision-preview', 'choices': [{'index': 0, 'message': {'role': 'assistant', 'content': 'The dog in the images appears to be an American Pit Bull Terrier or a mix that closely resembles that breed. American Pit Bull Terriers are known for their stocky build, strong physique, and broad head. Here are three possible breeds or types that this dog could be, or resemble:\\n\\n1. American Pit Bull Terrier\\n2. American Staffordshire Terrier\\n3. Staffordshire Bull Terrier\\n\\nThese breeds share similar physical characteristics, and without a pedigree, it can be difficult to distinguish them based solely on looks. These breeds are often grouped under the general term \"pit bull type\" dogs. They can be affectionate, loyal, and good-natured family pets with proper training and socialization.'}, 'finish_reason': 'stop'}], 'usage': {'prompt_tokens': 1216, 'completion_tokens': 145, 'total_tokens': 1361}, 'system_fingerprint': None}\n",
      "{'id': 'chatcmpl-94LNc6BglIn96vtGM5Ipcu6lfIO5D', 'object': 'chat.completion', 'created': 1710822524, 'model': 'gpt-4-1106-vision-preview', 'choices': [{'index': 0, 'message': {'role': 'assistant', 'content': \"The dog in the images appears to be a German Shepherd. This breed is easily recognizable due to its distinct features such as a black mask, erect ears, a powerful build, and a bushy tail that curves downward. German Shepherds are known for their intelligence, loyalty, and versatility, often used in roles such as police work, search and rescue, and as service dogs.\\n\\nBecause you asked for three possible breeds, here are two additional breeds that people sometimes confuse with German Shepherds:\\n\\n1. Belgian Malinois - Also known as Belgian Shepherd, this breed is similar in size and shape to the German Shepherd but usually has a shorter coat and a lighter build and is often used in similar working roles.\\n\\n2. Dutch Shepherd - Similar to the German Shepherd and Belgian Malinois in terms of their role and abilities, the Dutch Shepherd usually has a brindle coat pattern and can sometimes be confused with German Shepherds by those unfamiliar with the breed.\\n\\nHowever, it's important to note that the images provided show characteristics that are most consistent with a German Shepherd.\"}, 'finish_reason': 'stop'}], 'usage': {'prompt_tokens': 961, 'completion_tokens': 214, 'total_tokens': 1175}, 'system_fingerprint': None}\n",
      "{'id': 'chatcmpl-94LO0jUVttYL1ydB2SXemKN6dXcHr', 'object': 'chat.completion', 'created': 1710822548, 'model': 'gpt-4-1106-vision-preview', 'choices': [{'index': 0, 'message': {'role': 'assistant', 'content': 'The dog in the images appears to be a Golden Retriever. This breed is characterized by its dense, water-repellent golden coat, friendly and intelligent eyes, and overall friendly demeanor. Here are three possible breeds based on the images:\\n\\n1. Golden Retriever\\n2. Labrador Retriever (although the coat texture and size more closely resemble a Golden Retriever)\\n3. Nova Scotia Duck Tolling Retriever (usually smaller and with a slightly different coat type, but sometimes similar in color)\\n\\nGiven the distinct physical characteristics visible in the images, it is most likely a Golden Retriever.'}, 'finish_reason': 'stop'}], 'usage': {'prompt_tokens': 876, 'completion_tokens': 125, 'total_tokens': 1001}, 'system_fingerprint': None}\n",
      "{'id': 'chatcmpl-94LOJWbtGaSQSlwjq5Ubg03PdpjQQ', 'object': 'chat.completion', 'created': 1710822567, 'model': 'gpt-4-1106-vision-preview', 'choices': [{'index': 0, 'message': {'role': 'assistant', 'content': 'The dogs in the images appear to be a breed called \"Poodle\" based on their curly, dense coats and distinctive features. Poodles come in three sizes: Standard, Miniature, and Toy. \\n\\nBased on the size of the dogs in the images relative to the people holding them, there are three possibilities for the breed or mix:\\n\\n1. Toy Poodle: They are the smallest variety of the breed and are known for being very intelligent and excellent companions.\\n\\n2. Miniature Poodle: A bit larger than the Toy Poodle, the Miniature Poodle shares many of the same characteristics but can be more energetic and requires a bit more exercise.\\n\\n3. Poodle Mix: They might also be mixed breed dogs that have Poodle in their ancestry. Poodles are often crossed with other breeds to create \"designer dogs\" known for having hypoallergenic coats. Examples include the Cockapoo (Cocker Spaniel/Poodle mix) and the Maltipoo (Maltese/Poodle mix).\\n\\nIt\\'s important to note that accurate breed identification based on photos alone can be challenging, and these are general suggestions; a DNA test or confirmation from the dog\\'s breeder or veterinarian would provide a definitive answer.'}, 'finish_reason': 'stop'}], 'usage': {'prompt_tokens': 791, 'completion_tokens': 249, 'total_tokens': 1040}, 'system_fingerprint': None}\n",
      "{'id': 'chatcmpl-94LOgxdKTp3UngLI10JTLWwVkYvkO', 'object': 'chat.completion', 'created': 1710822590, 'model': 'gpt-4-1106-vision-preview', 'choices': [{'index': 0, 'message': {'role': 'assistant', 'content': 'All the dogs shown in the images you provided are of the same breed. These dogs are French Bulldogs, which are easily identifiable by their bat-like ears, short snouts, muscular bodies, and smooth coat. The French Bulldog is a small breed known for its friendly, patient, and affectionate nature.'}, 'finish_reason': 'stop'}], 'usage': {'prompt_tokens': 1046, 'completion_tokens': 62, 'total_tokens': 1108}, 'system_fingerprint': None}\n",
      "{'id': 'chatcmpl-94LOpDBjJubI8RKbFiIXI8pOz0HNd', 'object': 'chat.completion', 'created': 1710822599, 'model': 'gpt-4-1106-vision-preview', 'choices': [{'index': 0, 'message': {'role': 'assistant', 'content': 'The dog in the images appears to be a Staffordshire Bull Terrier, commonly called a \"Staffie.\" This breed is known for its muscular build, short coat, and strong, broad head.\\n\\nWhile I can only make an educated guess based on the images, here are three possibilities for the breed or breeds that this dog could be:\\n\\n1. Staffordshire Bull Terrier\\n2. American Staffordshire Terrier\\n3. A mix involving Staffordshire Bull Terrier or other breeds with similar characteristics.\\n\\nAlways remember that visual identification of dog breeds can sometimes be misleading, and DNA testing is the most accurate way to determine a dog\\'s breed makeup.'}, 'finish_reason': 'stop'}], 'usage': {'prompt_tokens': 1131, 'completion_tokens': 130, 'total_tokens': 1261}, 'system_fingerprint': None}\n",
      "{'id': 'chatcmpl-94LP7ydMKkWTUSc6r2IY4BjwUUozT', 'object': 'chat.completion', 'created': 1710822617, 'model': 'gpt-4-1106-vision-preview', 'choices': [{'index': 0, 'message': {'role': 'assistant', 'content': 'The dog pictured in these images appears to be a Chow Chow. This breed is known for its dense double coat, particularly around the neck, giving it a mane-like appearance, as well as its distinctive blue-black tongue. Chow Chows are often described as having a lion-like appearance due to their full, fluffy coats and solemn facial expressions.\\n\\nWhile I am identifying the breed based on the images provided, it is important to note that individual dogs within a breed can have a good deal of variation, and there are other breeds with some physical similarities. However, without more context or a broader range of visual markers, suggesting other breeds would be speculative. The Chow Chow is the most likely breed based on the visual characteristics shown in these images.'}, 'finish_reason': 'stop'}], 'usage': {'prompt_tokens': 1046, 'completion_tokens': 147, 'total_tokens': 1193}, 'system_fingerprint': None}\n",
      "{'id': 'chatcmpl-94LPLCbXq6tBKMS1nlGMKx98daXED', 'object': 'chat.completion', 'created': 1710822631, 'model': 'gpt-4-1106-vision-preview', 'choices': [{'index': 0, 'message': {'role': 'assistant', 'content': \"The dog presented in these images appears to be a Dachshund. This breed is characterized by its long body, short legs, and distinctive facial features, which all match the dog in the photos. Dachshunds come in two sizes, standard and miniature, and can have three different coat types: smooth (short-haired), long-haired, and wire-haired.\\n\\nWhile I could suggest other breeds as per the request for three possible breeds, it's clear from the images that this dog is a Dachshund, so listing additional breeds wouldn't be accurate in this context. However, if a Dachshund were to be mixed with another breed, the appearance might vary, and other possible breeds could be speculated based on the traits observed.\"}, 'finish_reason': 'stop'}], 'usage': {'prompt_tokens': 961, 'completion_tokens': 151, 'total_tokens': 1112}, 'system_fingerprint': None}\n",
      "{'id': 'chatcmpl-94LPbGjdRvJkdWaBsiM4tU1zcWGsJ', 'object': 'chat.completion', 'created': 1710822647, 'model': 'gpt-4-1106-vision-preview', 'choices': [{'index': 0, 'message': {'role': 'assistant', 'content': \"The dog in the images appears to be a Shih Tzu. The Shih Tzu is a toy breed known for its long, flowing coat and distinctive facial features, including a short snout and large, dark eyes.\\n\\nWhile these images specifically depict Shih Tzus, other breeds that might occasionally have a similar appearance due to coat color or facial structure could include:\\n\\n1. Lhasa Apso: This breed also comes from Tibet and has a similar long, dense coat, although they are generally larger than the Shih Tzu and have a more independent temperament.\\n   \\n2. Pekingese: Another small toy breed with a flat face and a long coat. Pekingese have a more lion-like appearance, with a heavier front and a distinctive mane of fur.\\n\\n3. Maltese: While they typically have a pure white coat, Maltese dogs share the small size and long, silky hair that can look somewhat similar if dyed or if they have a similar haircut to a Shih Tzu.\\n\\nHowever, based on the provided images, it's clear that the dogs are Shih Tzus due to their distinctive look that matches the breed's standard.\"}, 'finish_reason': 'stop'}], 'usage': {'prompt_tokens': 1046, 'completion_tokens': 240, 'total_tokens': 1286}, 'system_fingerprint': None}\n",
      "{'id': 'chatcmpl-94LQ2o4wOv8jUH5V7V79dXlNgMF55', 'object': 'chat.completion', 'created': 1710822674, 'model': 'gpt-4-1106-vision-preview', 'choices': [{'index': 0, 'message': {'role': 'assistant', 'content': \"This dog appears to be a small breed with a black and tan coat. While it's not always possible to be certain about a dog's breed without more information, the following three breeds are possibilities based on the dog's visible characteristics:\\n\\n1. Yorkshire Terrier (Yorkie) - This breed often has a similar black and tan coloration and a comparably sized snout and face, although Yorkies typically have longer, finer hair.\\n\\n2. Silky Terrier - Similar in size and coat coloring to the Yorkshire Terrier, a Silky Terrier has slightly more body-frame and a silkier coat texture that can appear somewhat as shown in the pictures when not fully groomed.\\n\\n3. Dachshund Mix - Given the dog's elongated body and stubbier legs characteristic of a Dachshund, it could be a mix where one parent is a Dachshund and the other parent is a different small breed with a similar coat pattern, such as a Yorkie or Silky Terrier.\\n\\nIt should be noted that mixed breeds often display characteristics of more than one breed, which can make precise identification challenging without a DNA test.\"}, 'finish_reason': 'stop'}], 'usage': {'prompt_tokens': 961, 'completion_tokens': 233, 'total_tokens': 1194}, 'system_fingerprint': None}\n",
      "{'id': 'chatcmpl-94LQXZGSSEl1pvrMGsV3X2BhjIHQO', 'object': 'chat.completion', 'created': 1710822705, 'model': 'gpt-4-1106-vision-preview', 'choices': [{'index': 0, 'message': {'role': 'assistant', 'content': \"The dog depicted in these images appears to be a Jack Russell Terrier. This breed is known for its energy, intelligence, and characteristic smooth or broken white coat with brown and/or black markings. Other breeds that might occasionally be confused with Jack Russell Terriers due to some similar physical characteristics might include:\\n\\n1. Parson Russell Terrier: This breed is similar to the Jack Russell Terrier but typically has a longer legged appearance, among other breed-specific traits.\\n\\n2. Rat Terrier: Rat Terriers share some resemblance to Jack Russell Terriers with their compact size and coloring but usually have a different body shape and temperament.\\n\\n3. Fox Terrier (Smooth or Wire): Although Fox Terriers have similar coloring and are also a terrier breed, they tend to have a different head shape and body type compared to Jack Russell Terriers.\\n\\nIt's important to note that the Jack Russell Terrier is the most likely match for the dog in the images presented.\"}, 'finish_reason': 'stop'}], 'usage': {'prompt_tokens': 1131, 'completion_tokens': 193, 'total_tokens': 1324}, 'system_fingerprint': None}\n",
      "{'id': 'chatcmpl-94LQtlPa38Cg9pnu0XrZQtfnlBRuz', 'object': 'chat.completion', 'created': 1710822727, 'model': 'gpt-4-1106-vision-preview', 'choices': [{'index': 0, 'message': {'role': 'assistant', 'content': \"The dog in these images appears to be a French Bulldog. This breed is easily recognizable by its bat-like ears, flat face, and compact, muscular body. French Bulldogs are a popular breed, noted for their friendly demeanor and suitability as companions.\\n\\nPlease note that while the breed characteristics are consistent with a French Bulldog, without professional assessment or confirmation from the owner, it's not possible to be certain of the breed of any individual dog just by looking at photos. However, I do not have any other suggestions as this dog clearly exhibits the primary traits of a French Bulldog.\"}, 'finish_reason': 'stop'}], 'usage': {'prompt_tokens': 1131, 'completion_tokens': 117, 'total_tokens': 1248}, 'system_fingerprint': None}\n",
      "{'id': 'chatcmpl-94LR5Uo8Pbcg3HfWh82J7F1PGVx0h', 'object': 'chat.completion', 'created': 1710822739, 'model': 'gpt-4-1106-vision-preview', 'choices': [{'index': 0, 'message': {'role': 'assistant', 'content': \"The dog in the images you've provided appears to be an Australian Shepherd. Australian Shepherds are known for their merle coat and striking eyes, which can sometimes be blue or have different colors (heterochromia). The dog exhibits tell-tale characteristics of the breed, including its fur pattern, ear shape, and overall build.\\n\\nHere are three possible breeds that the dog could be based on the visual characteristics:\\n\\n1. Australian Shepherd\\n2. Border Collie (although they generally have different markings and coat texture, they can sometimes be similar in appearance)\\n3. Miniature American Shepherd (a smaller version of the Australian Shepherd but very similar in appearance)\\n\\nHowever, it's important to note that based on the images, the Australian Shepherd seems to be the most accurate breed representation for this particular dog.\"}, 'finish_reason': 'stop'}], 'usage': {'prompt_tokens': 1046, 'completion_tokens': 163, 'total_tokens': 1209}, 'system_fingerprint': None}\n",
      "{'id': 'chatcmpl-94LRGY2XfPf4EFEfZgOAvM2sAqiV9', 'object': 'chat.completion', 'created': 1710822750, 'model': 'gpt-4-1106-vision-preview', 'choices': [{'index': 0, 'message': {'role': 'assistant', 'content': \"It's quite challenging to determine specific breeds from these images because the dog appears to possess mixed features, suggesting it may be a mixed breed. However, based on overall appearance, fur texture, and some unique characteristics, here are three possible breeds or types of dogs that could have contributed to the mix:\\n\\n1. Golden Retriever: Some features, like the fluffiness and color of the coat, suggest characteristics commonly seen in Golden Retrievers.\\n\\n2. Chow Chow: The dog has a somewhat fluffy mane around its neck and a sturdy build, which are reminiscent of Chow Chow characteristics. Additionally, the distinct blue-black tongue seen in some of the photos is a hallmark trait of Chow Chows.\\n\\n3. Akita: The shape of the face, ears, and stature of the dog can hint at some Akita influence, although this is less certain without more specific breed traits being visible.\\n\\nRemember, identifying mixed-breed dogs can be quite speculative without a DNA test or pedigree information because mixed-breed dogs can inherit various traits from multiple breeds, often leading to a unique blend that may not strongly resemble any single breed.\"}, 'finish_reason': 'stop'}], 'usage': {'prompt_tokens': 1046, 'completion_tokens': 225, 'total_tokens': 1271}, 'system_fingerprint': None}\n",
      "{'id': 'chatcmpl-94LRerVkaW9gVEXspXOYrapYnxPNz', 'object': 'chat.completion', 'created': 1710822774, 'model': 'gpt-4-1106-vision-preview', 'choices': [{'index': 0, 'message': {'role': 'assistant', 'content': 'The item in the first image is not a real dog; it appears to be a stuffed toy that resembles a cartoonish dog with an exaggerated expression and design that is not indicative of a real breed.\\n\\nAs for the images featuring real dogs, they seem to show a dog that is a Chocolate Labrador Retriever due to its characteristic brown coat color, sturdy build, broad head, and friendly expression. The Labrador Retriever breed is known for its friendly demeanor and intelligence, and they come in three main colors: black, yellow, and chocolate, like the ones shown in these images.'}, 'finish_reason': 'stop'}], 'usage': {'prompt_tokens': 961, 'completion_tokens': 118, 'total_tokens': 1079}, 'system_fingerprint': None}\n",
      "{'id': 'chatcmpl-94LRx7cK3mhVkc2BNC7ZGNcA19pnX', 'object': 'chat.completion', 'created': 1710822793, 'model': 'gpt-4-1106-vision-preview', 'choices': [{'index': 0, 'message': {'role': 'assistant', 'content': \"The dog in the images is a Dachshund, which is quite recognizable due to its long body and short legs, a breed trait known as chondrodysplasia. Dachshunds are also known for their prominent chests and often have ears that hang down. It's not really appropriate to suggest other breeds in this case, as the distinctive characteristics are quite specific to the Dachshund breed.\"}, 'finish_reason': 'stop'}], 'usage': {'prompt_tokens': 1216, 'completion_tokens': 84, 'total_tokens': 1300}, 'system_fingerprint': None}\n",
      "{'id': 'chatcmpl-94LSCto5SeTS87PYudGebNoeZgKZ4', 'object': 'chat.completion', 'created': 1710822808, 'model': 'gpt-4-1106-vision-preview', 'choices': [{'index': 0, 'message': {'role': 'assistant', 'content': \"It appears that the shared images are of a single dog breed, which is accompanied by a cat in various settings. However, it's challenging to determine the exact breed from the angles and facial expressions in the pictures. Nonetheless, I can make some educated guesses based on the visual characteristics displayed:\\n\\n1. American Staffordshire Terrier: The dog has a stocky build, a broad head, and a short coat, which are common traits of the American Staffordshire Terrier.\\n\\n2. Boxer: Elements like the square muzzle, strong jaw, and expression could suggest this breed.\\n\\n3. Beagle: The size and markings could potentially indicate a Beagle or a Beagle mix, especially in the face and ears.\\n\\nThese are just guesses, and this dog could be a mix of several breeds or a different breed entirely. Breed identification based on appearance alone is not always accurate, and without further information, these are speculative assessments.\"}, 'finish_reason': 'stop'}], 'usage': {'prompt_tokens': 1131, 'completion_tokens': 186, 'total_tokens': 1317}, 'system_fingerprint': None}\n",
      "{'id': 'chatcmpl-94LSLoT6Dk4d0qKp7t2rbSEHcNJsl', 'object': 'chat.completion', 'created': 1710822817, 'model': 'gpt-4-1106-vision-preview', 'choices': [{'index': 0, 'message': {'role': 'assistant', 'content': 'The dog in the images appears to be a Pomeranian. This breed is characterized by its fluffy coat, small size, and bright, alert expression.\\n\\nThree possible breeds based on the images, with the primary assumption being that of a Pomeranian, could be:\\n\\n1. Pomeranian – This is the most likely breed given the fluffy coat, small size, and fox-like features evident in the pictures.\\n2. Japanese Spitz – Another small breed that has a fluffy white coat and may resemble a Pomeranian in some aspects, but the dog in the photos does not appear to be a Japanese Spitz as they are typically white, not the tan/orange color seen here.\\n3. American Eskimo Dog (Miniature) – They also have a thick, fluffy white coat and share some facial similarities with Pomeranians but are typically larger and their coat is white.\\n\\nAgain, please note that while the latter two breeds can have similar fluffy characteristics, the dog in the pictures is most likely a Pomeranian based on the distinctive coat color and facial features.'}, 'finish_reason': 'stop'}], 'usage': {'prompt_tokens': 1131, 'completion_tokens': 217, 'total_tokens': 1348}, 'system_fingerprint': None}\n",
      "{'id': 'chatcmpl-94LSbEVOVrVLjo59ndi2J4LMps2IH', 'object': 'chat.completion', 'created': 1710822833, 'model': 'gpt-4-1106-vision-preview', 'choices': [{'index': 0, 'message': {'role': 'assistant', 'content': \"The dog in these images is a Pug. Pugs are a distinct breed known for their unique features, which include a wrinkled, short-muzzled face, and a curled tail. The dog pictured has the signature physical traits of a Pug. There's no need to suggest alternate breeds as the identification is clear.\"}, 'finish_reason': 'stop'}], 'usage': {'prompt_tokens': 961, 'completion_tokens': 66, 'total_tokens': 1027}, 'system_fingerprint': None}\n",
      "{'id': 'chatcmpl-94LSlF7cWutLsy8loyRPGZ1Uuvjoc', 'object': 'chat.completion', 'created': 1710822843, 'model': 'gpt-4-1106-vision-preview', 'choices': [{'index': 0, 'message': {'role': 'assistant', 'content': 'The dog featured in these images appears to be a French Bulldog (also known as a \"Frenchie\"). This breed is easily identifiable by its bat-like ears, short snout, and robust, muscular body with a smooth coat. French Bulldogs are a popular small-dog breed known for their friendly and companionable nature.\\n\\nIt\\'s important to note that while the dog in the images seems to be a French Bulldog, without seeing more of each individual dog\\'s physical features and attributes, it can be challenging to be absolutely certain that they are all purebred French Bulldogs or if some could potentially be mixed breeds. However, the images provided depict dogs with strong characteristics typical of the French Bulldog breed.'}, 'finish_reason': 'stop'}], 'usage': {'prompt_tokens': 791, 'completion_tokens': 142, 'total_tokens': 933}, 'system_fingerprint': None}\n",
      "{'id': 'chatcmpl-94LStvCjKDgiwW6D93GZQRlzPYoGT', 'object': 'chat.completion', 'created': 1710822851, 'model': 'gpt-4-1106-vision-preview', 'choices': [{'index': 0, 'message': {'role': 'assistant', 'content': 'The dogs in the images are Dalmatians. This breed is easily recognizable by their distinctive white coats with black or liver-colored spots. While you have asked for three possible breeds, in this case, their appearance is quite unique to Dalmatians, making it difficult to suggest other breeds that these dogs could be.'}, 'finish_reason': 'stop'}], 'usage': {'prompt_tokens': 1046, 'completion_tokens': 65, 'total_tokens': 1111}, 'system_fingerprint': None}\n",
      "{'id': 'chatcmpl-94LT7EhMrQ6vv39BAX3SPLi30DUJH', 'object': 'chat.completion', 'created': 1710822865, 'model': 'gpt-4-1106-vision-preview', 'choices': [{'index': 0, 'message': {'role': 'assistant', 'content': \"The dog in these images appears to be a Pomeranian. This breed is characterized by its fluffy double coat, small size, and fox-like face. Pomeranians are known for their lively and bold temperament. They make popular companion animals due to their compact size and expressive personalities. Since you've asked for three possible breeds, I'll list them despite the dog's appearance strongly indicating it is a Pomeranian:\\n\\n1. Pomeranian\\n2. German Spitz (Klein) – They are very similar to Pomeranians, but they are a distinct breed and can sometimes be larger.\\n3. American Eskimo Dog (Toy) – This is another Spitz-type breed that has a similar appearance, but they are usually a bit larger than Pomeranians.\\n\\nIt's important to consider that the exact breed confirmation would require more than visuals; it could involve genetic testing or confirmation from the dog's breeder. However, based solely on the images, the dog's breed is most consistent with the Pomeranian breed.\"}, 'finish_reason': 'stop'}], 'usage': {'prompt_tokens': 1046, 'completion_tokens': 211, 'total_tokens': 1257}, 'system_fingerprint': None}\n",
      "{'id': 'chatcmpl-94LTPLEOlghlKo98FIO0nxF86xoY1', 'object': 'chat.completion', 'created': 1710822883, 'model': 'gpt-4-1106-vision-preview', 'choices': [{'index': 0, 'message': {'role': 'assistant', 'content': \"Based on the photos you've provided, the dog appears to be a Pembroke Welsh Corgi. This breed is characterized by its short stature, long body, erect ears, and fox-like appearance. The coloring, facial structure, and overall appearance are consistent with the Pembroke Welsh Corgi breed.\\n\\nSince you've requested three possible breeds, here are two additional breeds for consideration, although they are less likely based on the images:\\n\\n1. Pembroke Welsh Corgi - As mentioned, this is the most likely breed represented in the photos.\\n2. Cardigan Welsh Corgi - Although similar to the Pembroke Welsh Corgi, the Cardigan has a slightly different body structure and usually has a tail, whereas the Pembroke often has a docked tail and a more distinct appearance.\\n3. Shetland Sheepdog (Sheltie) - They have a similar appearance to the Corgi due to their fox-like face and upright ears, but they typically have a different body structure, being taller and less stocky than Corgis.\\n\\nNonetheless, the images provided very strongly indicate that the dog is a Pembroke Welsh Corgi.\"}, 'finish_reason': 'stop'}], 'usage': {'prompt_tokens': 1046, 'completion_tokens': 236, 'total_tokens': 1282}, 'system_fingerprint': None}\n",
      "{'id': 'chatcmpl-94LTsxzUYAivjKZPd8yXEGv3adGbN', 'object': 'chat.completion', 'created': 1710822912, 'model': 'gpt-4-1106-vision-preview', 'choices': [{'index': 0, 'message': {'role': 'assistant', 'content': \"The dog in the images appears to be an Alaskan Malamute. This breed is known for its thick fur, strong build, and resemblance to wolves. They have a friendly and playful nature, but also an independent spirit.\\n\\nTo give you three possible breeds based on the visual features seen:\\n\\n1. Alaskan Malamute: As mentioned, the dog has the characteristic appearance of this breed, with a thick double coat, erect ears, and a robust build.\\n\\n2. Siberian Husky: Some may confuse the Alaskan Malamute with Siberian Huskies due to their similar wolf-like appearance, fur patterns, and coloration. However, Siberian Huskies are typically smaller and more slender than Malamutes.\\n\\n3. Timber Wolf Hybrid: Some may consider a wolf-dog hybrid due to the wolf-like appearance. However, these hybrids are less common and can vary widely in appearance depending on the specific wolf and dog breeds involved.\\n\\nIt's important to note that visual identification of dog breeds can be challenging and is not always accurate, so these suggestions are based on the overall appearance that is typical of the Alaskan Malamute breed.\"}, 'finish_reason': 'stop'}], 'usage': {'prompt_tokens': 1131, 'completion_tokens': 234, 'total_tokens': 1365}, 'system_fingerprint': None}\n",
      "{'id': 'chatcmpl-94LUAvfqxII72jpJewPw9weLJr7i6', 'object': 'chat.completion', 'created': 1710822930, 'model': 'gpt-4-1106-vision-preview', 'choices': [{'index': 0, 'message': {'role': 'assistant', 'content': 'The dog in the images appears to be a Pembroke Welsh Corgi. This breed is characterized by its short legs, long body, erect ears, and a fox-like appearance. Due to the consistent features in all the images, it is quite clear that they all showcase the Pembroke Welsh Corgi breed.'}, 'finish_reason': 'stop'}], 'usage': {'prompt_tokens': 1046, 'completion_tokens': 64, 'total_tokens': 1110}, 'system_fingerprint': None}\n",
      "{'id': 'chatcmpl-94LUNZGeUXnFdS4WWzyYe6XRhKwcT', 'object': 'chat.completion', 'created': 1710822943, 'model': 'gpt-4-1106-vision-preview', 'choices': [{'index': 0, 'message': {'role': 'assistant', 'content': \"Based on the images provided, the dogs depicted appear to be French Bulldogs. This breed is characterized by its small stature, bat-like ears, and stocky build. Here are three possible breeds that could be considered based on the physical traits visible in these images:\\n\\n1. French Bulldog – noted for its distinctive bat-shaped ears, short snout, and muscular body.\\n2. Boston Terrier – a breed that is somewhat similar in appearance to the French Bulldog but generally has a tuxedo coat pattern and longer legs.\\n3. Pug – has a similar size and muzzle shape but typically features a curly tail and different type of ears.\\n\\nHowever, it's important to note that all dogs in the images closely resemble French Bulldogs, making this breed the most accurate identification.\"}, 'finish_reason': 'stop'}], 'usage': {'prompt_tokens': 961, 'completion_tokens': 156, 'total_tokens': 1117}, 'system_fingerprint': None}\n",
      "{'id': 'chatcmpl-94LUn4ELSzDRhpCZR4QkX5yLyxIz3', 'object': 'chat.completion', 'created': 1710822969, 'model': 'gpt-4-1106-vision-preview', 'choices': [{'index': 0, 'message': {'role': 'assistant', 'content': \"The dog in the images appears to resemble a small breed with distinctive facial features including a short snout and large eyes. Although it's difficult to determine specific breeds without more information, some possible breeds or mix of breeds this dog could be include:\\n\\n1. Shih Tzu - Known for their long, flowing coats and distinctive faces.\\n\\n2. Pekingese - Recognizable by their flat faces and long coats, similar to the Shih Tzu's style.\\n\\n3. Lhasa Apso - This breed also has a longer coat and can have similar facial features, although they typically have a slightly longer snout than the Shih Tzu and Pekingese.\\n\\nKeep in mind that this dog could also be a mix of various breeds that share similar traits.\"}, 'finish_reason': 'stop'}], 'usage': {'prompt_tokens': 1046, 'completion_tokens': 154, 'total_tokens': 1200}, 'system_fingerprint': None}\n",
      "{'id': 'chatcmpl-94LVGGVEvOJt8L09MtlfaoVmmZkZy', 'object': 'chat.completion', 'created': 1710822998, 'model': 'gpt-4-1106-vision-preview', 'choices': [{'index': 0, 'message': {'role': 'assistant', 'content': \"The breed of the dog in these images is a Shiba Inu. This dog is native to Japan and is known for its fox-like appearance, alert and good-natured expression, and a compact muscular body. They are a popular breed both within and outside Japan.\\n\\nThere aren't three different breeds visibly represented in these images; the dog shown in all the pictures is a Shiba Inu. If you're looking for examples of breeds that may have similar physical traits to the Shiba Inu, you might consider the following:\\n\\n1. Akita Inu - This is a larger Japanese breed that has a similar spitz-type appearance but is bigger and more robust than the Shiba Inu.\\n2. Jindo - A Korean breed that also shares some physical characteristics like pointy ears and a tail that curls over the back.\\n3. Finnish Spitz - They have the fox-like features and the alert, erect ears like the Shiba Inu, although their coat color and texture can be different.\"}, 'finish_reason': 'stop'}], 'usage': {'prompt_tokens': 961, 'completion_tokens': 204, 'total_tokens': 1165}, 'system_fingerprint': None}\n",
      "{'id': 'chatcmpl-94LVX51mExkyMTKZKAY2wn224cgEr', 'object': 'chat.completion', 'created': 1710823015, 'model': 'gpt-4-1106-vision-preview', 'choices': [{'index': 0, 'message': {'role': 'assistant', 'content': 'I cannot provide assistance with these images.'}, 'finish_reason': 'stop'}], 'usage': {'prompt_tokens': 1131, 'completion_tokens': 8, 'total_tokens': 1139}, 'system_fingerprint': None}\n",
      "{'id': 'chatcmpl-94LVdYmL8WIuO1qPjLcIcYLmSb2lD', 'object': 'chat.completion', 'created': 1710823021, 'model': 'gpt-4-1106-vision-preview', 'choices': [{'index': 0, 'message': {'role': 'assistant', 'content': 'Based on the images provided, the dogs appear to be of the Dachshund breed, commonly known for their long bodies and short legs. They are often referred to as \"wiener dogs\" or \"sausage dogs\" due to their distinctive shape. Dachshunds come in two sizes (standard and miniature) and three coat types (smooth, wirehaired, and longhaired), and the ones in the pictures seem to have smooth and long-haired varieties.'}, 'finish_reason': 'stop'}], 'usage': {'prompt_tokens': 876, 'completion_tokens': 96, 'total_tokens': 972}, 'system_fingerprint': None}\n",
      "{'id': 'chatcmpl-94LVv2vieqKjcDJLEiqC6qJsVOw2J', 'object': 'chat.completion', 'created': 1710823039, 'model': 'gpt-4-1106-vision-preview', 'choices': [{'index': 0, 'message': {'role': 'assistant', 'content': \"The dog in the images appears to be a Shiba Inu. This breed is distinguishable by the following physical characteristics:\\n\\n- Upright ears\\n- Curled tail\\n- Distinctive 'urajiro' cream to white coloring on cheeks, inside the ears, under the jaw, on the belly, and the underside of the tail\\n- Fox-like face with a pointed snout\\n\\nBased on these characteristics, it is quite likely that the dog in the photos is a Shiba Inu. \\n\\nHowever, since you are asking for three possible breeds, I will provide two additional breeds just for consideration:\\n\\n1. Shiba Inu\\n2. Akita Inu (Though the Akita is generally much larger with slightly different features, they can be superficially similar in photos)\\n3. Finnish Spitz (Again, while there are differences in the physical details and size, some Finnish Spitz dogs can resemble Shiba Inus, particularly when they are not seen side by side for comparison)\\n\\nIt's important to note that these alternative breeds may not match the dog in the photos as closely as the Shiba Inu.\"}, 'finish_reason': 'stop'}], 'usage': {'prompt_tokens': 1046, 'completion_tokens': 230, 'total_tokens': 1276}, 'system_fingerprint': None}\n",
      "{'id': 'chatcmpl-94LWLcAwkWZiLRtsfwcXbcYx2a2aJ', 'object': 'chat.completion', 'created': 1710823065, 'model': 'gpt-4-1106-vision-preview', 'choices': [{'index': 0, 'message': {'role': 'assistant', 'content': \"The dog in the images appears to be a small, fluffy breed with distinctive features like large eyes and a somewhat rounded face. Based on these characteristics, here are three possible breeds this dog could be:\\n\\n1. Maltese\\n2. Bichon Frise\\n3. Shih Tzu\\n\\nKeep in mind that without a definitive breed indicator, it's challenging to determine the exact breed, and this dog could also be a mix of any small fluffy breeds.\"}, 'finish_reason': 'stop'}], 'usage': {'prompt_tokens': 1046, 'completion_tokens': 94, 'total_tokens': 1140}, 'system_fingerprint': None}\n",
      "{'id': 'chatcmpl-94LWiuaZsVBDvBXeGk5kLbz4xj1sz', 'object': 'chat.completion', 'created': 1710823088, 'model': 'gpt-4-1106-vision-preview', 'choices': [{'index': 0, 'message': {'role': 'assistant', 'content': \"The dog in the images appears to be of the Pembroke Welsh Corgi breed. This breed is characterized by its short legs, long body, erect ears, and expressive face. It's also known for its active and intelligent personality. The photos consistently show a dog with physical traits typical of the Pembroke Welsh Corgi. They are popular and recognizable due to their distinctive physical appearance and friendly nature.\\n\\nSince you've asked for three possible breeds, and the dog appears to be a Pembroke Welsh Corgi in every picture, providing other breeds might be misleading. However, to follow your direction:\\n\\n1. Pembroke Welsh Corgi\\n2. Cardigan Welsh Corgi - similar in appearance but typically has a long tail and might differ in color patterns and size.\\n3. A Corgi mix - It's possible that the breed could be mixed with another, though the dogs in the pictures strongly resemble a purebred Pembroke Welsh Corgi.\\n\\nIt is less likely that the dog belongs to other breeds, but sometimes certain mixed breeds might exhibit similar features to Corgis.\\n\"}, 'finish_reason': 'stop'}], 'usage': {'prompt_tokens': 961, 'completion_tokens': 222, 'total_tokens': 1183}, 'system_fingerprint': None}\n",
      "{'id': 'chatcmpl-94LX8lDM5JdEmlE4QW9dtU794m5rJ', 'object': 'chat.completion', 'created': 1710823114, 'model': 'gpt-4-1106-vision-preview', 'choices': [{'index': 0, 'message': {'role': 'assistant', 'content': \"The dog in these images appears to be a Jack Russell Terrier. This breed is known for their small to medium size, energetic temperament, and distinctive coloring, which typically includes a predominantly white coat with black, tan, or brown markings. The dog shown has the characteristic physical traits of the breed, such as the smooth coat, sturdy build, and coloring.\\n\\nIt's essential to note that while the dog visually resembles a Jack Russell Terrier, without a genetic test or confirmation from the owner, we cannot be certain of its exact breed. Other breeds with some similar physical characteristics that one might also consider include:\\n\\n1. Parson Russell Terrier - closely related to the Jack Russell Terrier but typically has a longer legged appearance.\\n2. Rat Terrier - which occasionally has similar coloring and size but usually has a different head shape and ear set.\\n3. Fox Terrier (Smooth) - which shares the size and some coat characteristics but usually has a more refined head shape.\\n\\nNonetheless, the predominant traits of this dog strongly suggest a Jack Russell Terrier.\"}, 'finish_reason': 'stop'}], 'usage': {'prompt_tokens': 1046, 'completion_tokens': 214, 'total_tokens': 1260}, 'system_fingerprint': None}\n",
      "{'id': 'chatcmpl-94LXTwp7WhofuJmsAQlcXdhZ7956t', 'object': 'chat.completion', 'created': 1710823135, 'model': 'gpt-4-1106-vision-preview', 'choices': [{'index': 0, 'message': {'role': 'assistant', 'content': \"The dog in the images appears to be a small, fluffy breed with a mix of characteristics. It can be challenging to determine the exact breed without a clear lineage, but based on the physical traits visible in the photos, it may be a mix or could belong to one of the following breeds:\\n\\n1. Yorkshire Terrier (Yorkie) - They have a similar small size and the fur texture and coloration could match those of a Yorkie.\\n\\n2. Maltese - The dog's overall size, hair texture, and playful demeanor could suggest a Maltese influence.\\n\\n3. Shih Tzu - The face, particularly the muzzle and the eyes, as well as the way the hair grows, may indicate some Shih Tzu characteristics.\\n\\nHowever, the dog could also be a designer crossbreed (like a Morkie, which is a Maltese-Yorkie mix, or a Shorkie, which is a Shih Tzu-Yorkie mix), which often share traits from multiple breeds making it harder to pinpoint a single breed's characteristics. The exact breed or mix can only be accurately determined through a DNA test or reliable breeding records.\"}, 'finish_reason': 'stop'}], 'usage': {'prompt_tokens': 1301, 'completion_tokens': 236, 'total_tokens': 1537}, 'system_fingerprint': None}\n",
      "{'id': 'chatcmpl-94LXtjJejTxa0HlNmImRQiVZxJd8k', 'object': 'chat.completion', 'created': 1710823161, 'model': 'gpt-4-1106-vision-preview', 'choices': [{'index': 0, 'message': {'role': 'assistant', 'content': \"Based on the images provided, the dog appears to be a Dachshund, which is a breed characterized by their long bodies, short legs, and prominent snouts. They are commonly known for their distinctive shape. Since you've requested three possible breeds, I should note that the dog shown is consistently a Dachshund in these images; however, here are two other breeds that people sometimes confuse with Dachshunds due to some similar physical characteristics:\\n\\n1. Dachshund: Known for their long backs and short legs, they can have smooth, long, or wire-haired coats.\\n2. Basset Hound: They have short legs and long ears but are much heavier and have a shorter body compared to Dachshunds.\\n3. Cocker Spaniel (short-legged or mixed-breed varieties): Sometimes a mix between a Cocker Spaniel and a Dachshund can have a longish body and shorter legs but will have a different head shape and fur texture.\\n\\nNevertheless, it's clear that the dog in the photos is a Dachshund.\"}, 'finish_reason': 'stop'}], 'usage': {'prompt_tokens': 621, 'completion_tokens': 219, 'total_tokens': 840}, 'system_fingerprint': None}\n",
      "{'id': 'chatcmpl-94LY50ZKg4JbFfG7f9AVVQzRgET5y', 'object': 'chat.completion', 'created': 1710823173, 'model': 'gpt-4-1106-vision-preview', 'choices': [{'index': 0, 'message': {'role': 'assistant', 'content': \"The dogs in the images you've provided all appear to be Dachshunds. This breed is easily recognized by its long body, short legs, and distinct facial features. They are also known as wiener dogs or sausage dogs due to their elongated bodies. Here are three possible variations within the breed that these dogs might represent:\\n\\n1. Standard Smooth-haired Dachshund: This is the classic variety with a smooth, shiny coat and is the most commonly recognized.\\n\\n2. Miniature Smooth-haired Dachshund: Similar in appearance to the standard but is smaller in size.\\n\\n3. Standard Long-haired Dachshund: These have a longer, flowing coat, although none of the dogs shown in the images appear to have the long hair characteristic of this variety.\\n\\nIt's worth noting that while these dogs look like Dachshunds, without professional confirmation, it's always a bit of a guess when identifying breeds based solely on pictures. However, the characteristic features exhibited by the dogs in these images are typical of the Dachshund breed.\"}, 'finish_reason': 'stop'}], 'usage': {'prompt_tokens': 1046, 'completion_tokens': 213, 'total_tokens': 1259}, 'system_fingerprint': None}\n",
      "{'id': 'chatcmpl-94LYTVd4ycDY5L8WGC6SiWOgtCOQH', 'object': 'chat.completion', 'created': 1710823197, 'model': 'gpt-4-1106-vision-preview', 'choices': [{'index': 0, 'message': {'role': 'assistant', 'content': 'The dogs in these images appear to be Labradoodles, which are a crossbreed between a Labrador Retriever and a Poodle. They are known for their friendly nature, curly fur, and often come in various sizes depending on the Poodle used in the breeding (Standard, Miniature, or Toy Poodle). Their coats can range from wavy to tightly curled and come in a variety of colors.\\n\\nThree possible breeds that could also look similar might include:\\n\\n1. Goldendoodle – This is a crossbreed between a Golden Retriever and a Poodle, which can often have a similar appearance to Labradoodles, with a shaggy or curly coat and a friendly demeanor.\\n\\n2. Irish Doodle – A mix between an Irish Setter and a Poodle, this breed can have similar coat colors and curliness.\\n\\n3. Australian Labradoodle – This breed is more than just a simple Labrador Retriever and Poodle mix; it may also include other breeds in its ancestry, such as the Curly Coat Retriever and English and American Cocker Spaniel, to create a specific temperament and coat type.'}, 'finish_reason': 'stop'}], 'usage': {'prompt_tokens': 961, 'completion_tokens': 232, 'total_tokens': 1193}, 'system_fingerprint': None}\n",
      "{'id': 'chatcmpl-94LYnjn77KMMWaLJmKJwySBg7v9tV', 'object': 'chat.completion', 'created': 1710823217, 'model': 'gpt-4-1106-vision-preview', 'choices': [{'index': 0, 'message': {'role': 'assistant', 'content': \"The dog in the images appears to be an Old English Sheepdog, recognized by its shaggy double coat, distinctive gray and white coloring, and the hair that often covers their face. Old English Sheepdogs are large, athletic dogs historically used for droving sheep and cattle in England.\\n\\nOther breeds that have similar physical characteristics to the Old English Sheepdog (although not identical) are:\\n\\n1. Bearded Collie – This breed, like the Old English Sheepdog, also has a long, shaggy coat and was originally bred for herding. They often have a more defined beard and are generally smaller than the Old English Sheepdog.\\n\\n2. South Russian Ovcharka (South Russian Shepherd Dog) – These are large, long-haired dogs with a thick coat that can sometimes resemble the Old English Sheepdog, although their coat texture and coloration can vary more significantly.\\n\\n3. Polish Lowland Sheepdog – Known as Polski Owczarek Nizinny in Poland, this breed has a long, shaggy coat similar to the Old English Sheepdog but is medium-sized and typically has a more prominently bearded muzzle.\\n\\nIt's worth noting that for a definitive identification, one would ideally rely on more specific details such as pedigree papers or confirmation from a canine expert.\"}, 'finish_reason': 'stop'}], 'usage': {'prompt_tokens': 1046, 'completion_tokens': 261, 'total_tokens': 1307}, 'system_fingerprint': None}\n",
      "{'id': 'chatcmpl-94LZA5DcjllcG8JDmvDj8pDQIpMx7', 'object': 'chat.completion', 'created': 1710823240, 'model': 'gpt-4-1106-vision-preview', 'choices': [{'index': 0, 'message': {'role': 'assistant', 'content': \"The dogs in the images you've shared have curly or wavy coats and a distinctive appearance that is typical of a few specific dog breeds. Three possible breeds that dogs with such a coat might be are:\\n\\n1. Poodle: Known for their tight curls and hypoallergenic fur, poodles come in various sizes, including toy, miniature, and standard.\\n\\n2. Labradoodle: This is a crossbreed between a Labrador Retriever and a Poodle, inheriting the Poodle's curly coat.\\n\\n3. Goldendoodle: Similar to Labradoodles, Goldendoodles are a cross between a Golden Retriever and a Poodle and have a characteristic wavy or curly coat.\\n\\nGiven the curly-haired nature of these dogs, it's likely they could be one of these breeds or related mixes.\"}, 'finish_reason': 'stop'}], 'usage': {'prompt_tokens': 621, 'completion_tokens': 166, 'total_tokens': 787}, 'system_fingerprint': None}\n",
      "{'id': 'chatcmpl-94LZTxp1iHDYvcbKtYEmYOrc8vIE2', 'object': 'chat.completion', 'created': 1710823259, 'model': 'gpt-4-1106-vision-preview', 'choices': [{'index': 0, 'message': {'role': 'assistant', 'content': 'The dog in the images appears to be a Siberian Husky. This breed is known for its thick fur, upright triangular ears, distinctive markings, and often striking blue or multicolored eyes. The Siberian Husky is a medium-sized working dog breed that originated in Northeast Asia and is known for its good temperament, high energy, and resilience in cold climates.\\n\\nWhile the breed seems very clear in this case, here are three possible breeds based on general physical characteristics for the context of the question:\\n\\n1. Siberian Husky\\n2. Alaskan Malamute (although they are typically larger and more robust than the Siberian Husky)\\n3. Samoyed (generally have a whiter coat and a \"smiling\" facial expression, but have a similar fluffy appearance)\\n\\nHowever, it\\'s important to note that huskies can have variable markings and coat colors, and not all individuals will look identical. The dog in your images, with its distinctive fur pattern and color, is most likely a Siberian Husky.'}, 'finish_reason': 'stop'}], 'usage': {'prompt_tokens': 876, 'completion_tokens': 210, 'total_tokens': 1086}, 'system_fingerprint': None}\n",
      "{'id': 'chatcmpl-94LZjSSyBZH32D56l7LB6DBYn9KBY', 'object': 'chat.completion', 'created': 1710823275, 'model': 'gpt-4-1106-vision-preview', 'choices': [{'index': 0, 'message': {'role': 'assistant', 'content': 'The dog in these images appears to be an English Bulldog. English Bulldogs are known for their wide heads, muscular bodies, wrinkled faces, and pushed-in noses. The characteristics such as the loose, saggy skin and the distinctively hefty and pugnacious stance are very typical of this breed.'}, 'finish_reason': 'stop'}], 'usage': {'prompt_tokens': 1046, 'completion_tokens': 62, 'total_tokens': 1108}, 'system_fingerprint': None}\n",
      "{'id': 'chatcmpl-94La1m5WhTxZM7LaV9pmzPjxFRX6v', 'object': 'chat.completion', 'created': 1710823293, 'model': 'gpt-4-1106-vision-preview', 'choices': [{'index': 0, 'message': {'role': 'assistant', 'content': \"Based on the images you've shared, it's a bit challenging to identify the exact breed of the dog because I cannot analyze DNA, and appearance can sometimes be misleading due to mixed breeding. However, the dog depicted appears to have characteristics similar to the following breeds:\\n\\n1. Coonhound – The dog's general build, coat pattern, and coloration are reminiscent of certain types of Coonhounds.\\n\\n2. Vizsla – The sleek body, close-fitting coat, and floppy ears are traits found in Vizslas, though the color and size may vary.\\n\\n3. Pointer – Pointers also have a similar athletic build and can have a variety of coat patterns, including speckles.\\n\\nThe dog in these pictures seems to have a speckled or “ticked” coat, which can be found in various breeds and mixtures. The exact breed identification would ideally require more specific information or a professional assessment by a dog breed expert or veterinarian.\"}, 'finish_reason': 'stop'}], 'usage': {'prompt_tokens': 791, 'completion_tokens': 195, 'total_tokens': 986}, 'system_fingerprint': None}\n",
      "{'id': 'chatcmpl-94LaLWvGCFjKULYKVcT9XgEUNY2wN', 'object': 'chat.completion', 'created': 1710823313, 'model': 'gpt-4-1106-vision-preview', 'choices': [{'index': 0, 'message': {'role': 'assistant', 'content': 'The dog depicted in the images is an Italian Greyhound. This breed is easily recognizable by its slender build, fine bones, narrow head, and large, expressive eyes. Italian Greyhounds are known for their sleek, short coat and can sometimes be mistaken for miniature versions of the larger Greyhound.\\n\\nSince you asked for three possible breeds, apart from the Italian Greyhound, other breeds that sometimes have a similar appearance are:\\n\\n1. Whippet - Whippets are another sighthound breed that resembles a smaller Greyhound with a similarly slim build and short coat.\\n2. Miniature Pinscher - Although Miniature Pinschers have a more robust build compared to Italian Greyhounds, they sometimes share a similar look due to their short, sleek coats and pointy ears when cropped.\\n\\nThe Italian Greyhound is the most accurate breed match for this particular dog.'}, 'finish_reason': 'stop'}], 'usage': {'prompt_tokens': 1046, 'completion_tokens': 172, 'total_tokens': 1218}, 'system_fingerprint': None}\n",
      "{'id': 'chatcmpl-94LacjtOsaIHjfoAMtbo7oBLM0fBP', 'object': 'chat.completion', 'created': 1710823330, 'model': 'gpt-4-1106-vision-preview', 'choices': [{'index': 0, 'message': {'role': 'assistant', 'content': \"The dog in the images appears to be a Shih Tzu, which is a small breed known for its long, flowing coat and sweet, expressive face. However, without a professional assessment, I cannot definitively determine the breed.\\n\\nConsidering the physical characteristics visible in the photos, here are three possible breeds the dog could be:\\n\\n1. Shih Tzu: This breed is often characterized by a short snout, large dark eyes, and a long, luxurious coat, which is frequently groomed in various styles.\\n\\n2. Lhasa Apso: Similar to the Shih Tzu, Lhasa Apsos have a long, dense coat, but they are generally a little larger and have a heavier muzzle.\\n\\n3. Havanese: Another small breed with a long, silky coat, though they typically have a longer body and may come in a wider range of colors.\\n\\nRemember that without genetic testing or confirmation from a dog breed expert, it's difficult to give an accurate breed identification solely based on images.\"}, 'finish_reason': 'stop'}], 'usage': {'prompt_tokens': 536, 'completion_tokens': 206, 'total_tokens': 742}, 'system_fingerprint': None}\n",
      "{'id': 'chatcmpl-94Lap2NXosIGd28Lip3ZAzslOOO6s', 'object': 'chat.completion', 'created': 1710823343, 'model': 'gpt-4-1106-vision-preview', 'choices': [{'index': 0, 'message': {'role': 'assistant', 'content': 'The dog in these images appears to be a Cavalier King Charles Spaniel. This breed is characterized by its long, silky fur, feathered ears, expressive eyes, and generally small to medium size. The rich chestnut color on a pearly white background is known as the Blenheim pattern, which is one of the signature color patterns for this breed. \\n\\nThree possible breeds based on appearance could include:\\n\\n1. Cavalier King Charles Spaniel (most likely)\\n2. English Toy Spaniel (King Charles Spaniel)\\n3. A mix that includes the features of a spaniel-type breed.\\n\\nHowever, based on the distinct characteristics visible in the images, the Cavalier King Charles Spaniel is the most accurate identification of the breed.'}, 'finish_reason': 'stop'}], 'usage': {'prompt_tokens': 876, 'completion_tokens': 149, 'total_tokens': 1025}, 'system_fingerprint': None}\n",
      "{'id': 'chatcmpl-94Lb4T1eLKt73tajCoAbX507Tu2me', 'object': 'chat.completion', 'created': 1710823358, 'model': 'gpt-4-1106-vision-preview', 'choices': [{'index': 0, 'message': {'role': 'assistant', 'content': \"The dog in the pictures appears to be a Golden Retriever. It has the breed's distinctive thick, golden-colored coat, friendly eyes, and well-proportioned head, with a wide skull and strong, straight muzzle characteristic of Golden Retrievers.\\n\\nFor the purposes of providing three possible breeds as requested, here they are:\\n\\n1. Golden Retriever\\n2. Labrador Retriever (less likely given the longer coat typical of Golden Retrievers)\\n3. Nova Scotia Duck Tolling Retriever (usually smaller and with a slightly redder coat)\\n\\nBased on the images, the strongest match is certainly the Golden Retriever.\"}, 'finish_reason': 'stop'}], 'usage': {'prompt_tokens': 961, 'completion_tokens': 129, 'total_tokens': 1090}, 'system_fingerprint': None}\n",
      "{'id': 'chatcmpl-94LbJv5HGHWQPRj4yJhKDcNdHENIq', 'object': 'chat.completion', 'created': 1710823373, 'model': 'gpt-4-1106-vision-preview', 'choices': [{'index': 0, 'message': {'role': 'assistant', 'content': \"Sorry, I can't provide assistance with these requests.\"}, 'finish_reason': 'stop'}], 'usage': {'prompt_tokens': 1046, 'completion_tokens': 11, 'total_tokens': 1057}, 'system_fingerprint': None}\n"
     ]
    }
   ],
   "source": [
    "df = df_vision_multiple(df)"
   ]
  },
  {
   "cell_type": "code",
   "execution_count": 104,
   "metadata": {},
   "outputs": [],
   "source": [
    "df.to_csv('./output/raw/vision/vision_multiple.csv', index=False)"
   ]
  },
  {
   "cell_type": "code",
   "execution_count": 109,
   "metadata": {},
   "outputs": [],
   "source": [
    "df = pd.read_csv('./output/raw/vision/vision_multiple.csv')"
   ]
  },
  {
   "cell_type": "code",
   "execution_count": 110,
   "metadata": {},
   "outputs": [],
   "source": [
    "df = clean_breeds(df)"
   ]
  },
  {
   "cell_type": "code",
   "execution_count": 111,
   "metadata": {},
   "outputs": [],
   "source": [
    "df = vision_tokens(df)\n",
    "export_clean_breeds(df, 'multiple')"
   ]
  }
 ],
 "metadata": {
  "kernelspec": {
   "display_name": "env",
   "language": "python",
   "name": "python3"
  },
  "language_info": {
   "codemirror_mode": {
    "name": "ipython",
    "version": 3
   },
   "file_extension": ".py",
   "mimetype": "text/x-python",
   "name": "python",
   "nbconvert_exporter": "python",
   "pygments_lexer": "ipython3",
   "version": "3.10.12"
  }
 },
 "nbformat": 4,
 "nbformat_minor": 2
}
